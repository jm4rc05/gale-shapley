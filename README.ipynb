{
 "cells": [
  {
   "cell_type": "markdown",
   "id": "409957c4-c889-4553-8636-188700e9c1c9",
   "metadata": {},
   "source": [
    "# US51 - Aplicabilidade da teoria dos jogos em sistemas de recomendação\n",
    "Dezembro de 2021\n",
    "\n",
    "## VISÃO\n",
    "\n",
    "Uma análise sobre a aplicabilidade da teoria dos jogos, mais especificamente o campo de estudos do pareamento de agentes de acordo com suas preferências.\n",
    "\n",
    "## OBJETIVOS\n",
    "\n",
    "* Determinar grupos de consumidores, lojistas, influenciadores\n",
    "* Estudar as preferências dos diferentes grupos de modo a formar recomendações mais apuradas\n",
    "\n",
    "## ESPECIFICAÇÕES\n",
    "\n",
    "Após a realização da pesquisa bibliográfica preliminar para os estudos relativos ao desenvolvimento e implementação de um sistema de recomendações, observamos que os maiores desafios residem em gerar recomendações que atraiam os indivíduos para os quais aquelas são produzidas.\n",
    "\n",
    "Estudos não relacionados diretamente com sistemas de recomendação abordam o agrupamento de agentes de acordo com suas preferências com aplicações em diversos campos tais como economia, propaganda e comportamentais com o objetivo de classificação dos agentes de modo a melhor enquadrá-los em categorias como ítens de consumo, atenção, objetivos pessoais ou sociais, etc.\n",
    "\n",
    "Acreditamos que estes estudos apresentam potencialmente intersecção com o problema de gerar recomendações, facilitando a identificação de preferências de modo a melhorar a atratividade do que é recomendado para o indivíduo alvo.\n",
    "\n",
    "## AGRUPAMENTO DE AGENTES EM UM SISTEMA DE RECOMENDAÇÕES\n",
    "\n",
    "Um sistema de recomendações visa, de modo geral, recomendar ítens para consumidores. Com base em nosso estudo realizado em Outubro último (US#43, Sprint#4), abordamos as duas principais técnicas aplicadas na geração de recomendações:\n",
    "\n",
    "* _Content-based_ - onde dados dos ítens são utilizados com heurísticas de agrupamento, com a vantagem de ser computacionalmente eficiente porém a desvantagem da baixa qualidade da recomendação gerada;\n",
    "* _Collaborative-filtering_ - onde dados históricos e obsrvação de tendências são utilizadas para gerar recomendações, computacionalmente ineficiente e difícil de implementar quando não se possui o histórico necessário porém com a vantagem de resultar em recomendações de maior qualidade.\n",
    "\n",
    "Podemos entender o sistema de recomendações como um jogo cooperativo, onde os participantes podem se comunicar livremente, porém a característica de pareamento é implícita (observamos a formação de grupos por interesses e afinidades comuns, como amantes de futebol ou por determinados times de futebol, amantes de churrasco, apreciadores de arte, entusiastas pela natureza, colecionadores de selos, etc.). Alguns destes grupos são bastante óbvios e especializados (como os citados), porém a maioria é bastante sutil, como por exemplo, pessoas interessadas em adquirir um eletro-portátil, ou em frequentar uma academia, ou ainda assistir uma determinada peça de teatro.\n",
    "\n",
    "Compreendemos ainda o sistema de recomendações como um jogo de pareamento onde temos um número finito de influenciadores (os que recomendam ou endossam recomendações) e um número também finito de consumidores. Cada influenciador está disposto a recomendar alguns ítens, enquanto que os ouvintes estão dispostos a ouvir um número limitado de ofertas de diversos influenciadores até o limite de sua atenção. Recomendores e ouvintes são heterogêneos mas podemos arbtrariamente considerar a recomendação em si homogêneas. Cada agente (influenciador ou consumidor) derivam utilidade da atenção obtida ou dada com funções de utilidade aditivas. Em resumo, é um modelo muito-para-muitos de dois lados, com vetores de atenção, um para cada recomendação, e uma alocação de recomendação para ouvintes de modo que a demanda de cada um é satisfeita, o número de recomendações feitas pelo influenciador não é maior que a atenção disponível.\n",
    "\n",
    "E finalmente, enquadramos o sistema de recomendações como um jogo cíclico, onde os jogadores (em nosso caso o influenciador e o consumidor) interagem repetidas vezes e baseaiam seu ganho nas iterações passadas. A função utilitária de cada agente está atenção dada pelo consumidor à recomendação, e recebida pelo influenciador. O consumidor ganha (e dá atenção) com boas recomendações, do mesmo modo que o influenciador (que ganha fazendo boas recomendações para quem está disposto a considerá-las). O pareamento perfeito entre influenciadores com reputação em determinado ítem e consumidores interessados no mesmo ítem garante o aproveitamento máximo da recomendação.\n",
    "\n",
    "A Teoria dos Jogos tem um importante papel em sistemas de inteligência artificial, como por exemplo os que aplicam aprendizado por reforço,\n",
    "\n",
    "Neste trabalho propomos utilizar a técnica de Agrupamento de Agentes da Teoria dos Jogos com objetivos diversos objetivos:\n",
    "\n",
    "* Otimizar as heurísticas de agrupamento da abordagem Content-based de modo a melhorar a qualidade das recomendações produzidas; ou\n",
    "* Otimizar a eficiência computacional da abordagem Collaborative-filtering classificando os agentes em seus grupos.\n",
    "\n",
    "Outras possibilidades resultantes deste estudo são:\n",
    "\n",
    "* Pareamento de agentes para maior efetividade da recomendação, i.e., parear de forma ótima influenciadores e recomendados e não só ítens para recomendados;\n",
    "* Pareamento de agentes para maior efetividade do recomendado, i.e., parear de forma ótima itens recomendados por influenciadores, de forma a explorar o prestígio de quem recomenda determinado ítem.\n",
    "\n",
    "### ALGORÍTMO DE GALE-SHAPLEY\n",
    "\n",
    "1. Assinalar para cada consumidor $k$ que existem em $K$ e provedor $p$ que existem em $P$ como não pareado;\n",
    "1. Pegar um $k$ não pareado, e que $p$ esteja no topo da lista de preferências de $k$:\n",
    "    1. Se $p$ não estiver pareado, registrar $M(k) = P$;\n",
    "    1. Se $p$ estiver pareado:\n",
    "    1. Se $p$ prefere $k$ a $M-1(k)$ então registrar $M(k) = p$;\n",
    "    1. Senão $k$ permanece não pareado e remove $p$ da lista de preferências.\n",
    "1. Repetir 2 até que todo $k$ tenha sido pareado.\n",
    "\n",
    "É fácil observar que este algorítmo é $O(n \\cdot m)$.\n",
    "\n",
    "## REFERÊNCIAS\n",
    "\n",
    "1. Gale, David, and Lloyd S. Shapley. \"College admissions and the stability of marriage.\" The American Mathematical Monthly 69.1 (1962): 9-15."
   ]
  },
  {
   "cell_type": "markdown",
   "id": "8ab7e5da-43db-4153-8b62-57e256785a39",
   "metadata": {},
   "source": [
    "> Fim"
   ]
  }
 ],
 "metadata": {
  "kernelspec": {
   "display_name": "Python 3",
   "language": "python",
   "name": "python3"
  },
  "language_info": {
   "codemirror_mode": {
    "name": "ipython",
    "version": 3
   },
   "file_extension": ".py",
   "mimetype": "text/x-python",
   "name": "python",
   "nbconvert_exporter": "python",
   "pygments_lexer": "ipython3",
   "version": "3.8.2"
  }
 },
 "nbformat": 4,
 "nbformat_minor": 5
}
