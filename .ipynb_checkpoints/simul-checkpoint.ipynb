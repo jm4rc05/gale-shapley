{
 "cells": [
  {
   "cell_type": "code",
   "execution_count": 1,
   "metadata": {},
   "outputs": [
    {
     "name": "stdout",
     "output_type": "stream",
     "text": [
      "Populating the interactive namespace from numpy and matplotlib\n"
     ]
    }
   ],
   "source": [
    "%pylab inline\n",
    "import pandas as pd\n",
    "import numpy as np\n",
    "from collections import Counter\n",
    "from copy import copy"
   ]
  },
  {
   "cell_type": "markdown",
   "metadata": {},
   "source": [
    "# Definir as listas e suas preferências"
   ]
  },
  {
   "cell_type": "code",
   "execution_count": 2,
   "metadata": {},
   "outputs": [],
   "source": [
    "influenciador_list = ['Gildárcio', 'Shigemura', 'Henrique', 'Jean']\n",
    "produtos_list = ['Sapato', 'Bolsa', 'Camisa', 'Dentadura']"
   ]
  },
  {
   "cell_type": "code",
   "execution_count": 3,
   "metadata": {},
   "outputs": [],
   "source": [
    "# Lista dos melhores influenciadores para cada produto\n",
    "# Como obter esta lista? Por indicações, histórico de iterações, etc.?\n",
    "produtos_df = pd.DataFrame({'Sapato': [3,4,2,1], 'Bolsa': [3,1,4,2], 'Camisa':[2,3,4,1], 'Dentadura':[3,2,1,4]})\n",
    "produtos_df.index = influenciador_list"
   ]
  },
  {
   "cell_type": "code",
   "execution_count": 4,
   "metadata": {},
   "outputs": [],
   "source": [
    "# Lista dos melhores produtos para cada influenciador\n",
    "# Esta lista pode ser obtida pelo histórico de iterações do influenciador com os produtos!\n",
    "influenciador_df = pd.DataFrame({'Sapato': [1,1,2,4], 'Bolsa': [2,4,1,2], 'Camisa':[3,3,3,3], 'Dentadura':[4,2,4,1]})\n",
    "influenciador_df.index = influenciador_list"
   ]
  },
  {
   "cell_type": "code",
   "execution_count": 5,
   "metadata": {},
   "outputs": [
    {
     "data": {
      "text/html": [
       "<div>\n",
       "<style scoped>\n",
       "    .dataframe tbody tr th:only-of-type {\n",
       "        vertical-align: middle;\n",
       "    }\n",
       "\n",
       "    .dataframe tbody tr th {\n",
       "        vertical-align: top;\n",
       "    }\n",
       "\n",
       "    .dataframe thead th {\n",
       "        text-align: right;\n",
       "    }\n",
       "</style>\n",
       "<table border=\"1\" class=\"dataframe\">\n",
       "  <thead>\n",
       "    <tr style=\"text-align: right;\">\n",
       "      <th></th>\n",
       "      <th>Sapato</th>\n",
       "      <th>Bolsa</th>\n",
       "      <th>Camisa</th>\n",
       "      <th>Dentadura</th>\n",
       "    </tr>\n",
       "  </thead>\n",
       "  <tbody>\n",
       "    <tr>\n",
       "      <th>Gildárcio</th>\n",
       "      <td>3</td>\n",
       "      <td>3</td>\n",
       "      <td>2</td>\n",
       "      <td>3</td>\n",
       "    </tr>\n",
       "    <tr>\n",
       "      <th>Shigemura</th>\n",
       "      <td>4</td>\n",
       "      <td>1</td>\n",
       "      <td>3</td>\n",
       "      <td>2</td>\n",
       "    </tr>\n",
       "    <tr>\n",
       "      <th>Henrique</th>\n",
       "      <td>2</td>\n",
       "      <td>4</td>\n",
       "      <td>4</td>\n",
       "      <td>1</td>\n",
       "    </tr>\n",
       "    <tr>\n",
       "      <th>Jean</th>\n",
       "      <td>1</td>\n",
       "      <td>2</td>\n",
       "      <td>1</td>\n",
       "      <td>4</td>\n",
       "    </tr>\n",
       "  </tbody>\n",
       "</table>\n",
       "</div>"
      ],
      "text/plain": [
       "           Sapato  Bolsa  Camisa  Dentadura\n",
       "Gildárcio       3      3       2          3\n",
       "Shigemura       4      1       3          2\n",
       "Henrique        2      4       4          1\n",
       "Jean            1      2       1          4"
      ]
     },
     "execution_count": 5,
     "metadata": {},
     "output_type": "execute_result"
    }
   ],
   "source": [
    "produtos_df"
   ]
  },
  {
   "cell_type": "code",
   "execution_count": 6,
   "metadata": {},
   "outputs": [
    {
     "data": {
      "text/html": [
       "<div>\n",
       "<style scoped>\n",
       "    .dataframe tbody tr th:only-of-type {\n",
       "        vertical-align: middle;\n",
       "    }\n",
       "\n",
       "    .dataframe tbody tr th {\n",
       "        vertical-align: top;\n",
       "    }\n",
       "\n",
       "    .dataframe thead th {\n",
       "        text-align: right;\n",
       "    }\n",
       "</style>\n",
       "<table border=\"1\" class=\"dataframe\">\n",
       "  <thead>\n",
       "    <tr style=\"text-align: right;\">\n",
       "      <th></th>\n",
       "      <th>Sapato</th>\n",
       "      <th>Bolsa</th>\n",
       "      <th>Camisa</th>\n",
       "      <th>Dentadura</th>\n",
       "    </tr>\n",
       "  </thead>\n",
       "  <tbody>\n",
       "    <tr>\n",
       "      <th>Gildárcio</th>\n",
       "      <td>1</td>\n",
       "      <td>2</td>\n",
       "      <td>3</td>\n",
       "      <td>4</td>\n",
       "    </tr>\n",
       "    <tr>\n",
       "      <th>Shigemura</th>\n",
       "      <td>1</td>\n",
       "      <td>4</td>\n",
       "      <td>3</td>\n",
       "      <td>2</td>\n",
       "    </tr>\n",
       "    <tr>\n",
       "      <th>Henrique</th>\n",
       "      <td>2</td>\n",
       "      <td>1</td>\n",
       "      <td>3</td>\n",
       "      <td>4</td>\n",
       "    </tr>\n",
       "    <tr>\n",
       "      <th>Jean</th>\n",
       "      <td>4</td>\n",
       "      <td>2</td>\n",
       "      <td>3</td>\n",
       "      <td>1</td>\n",
       "    </tr>\n",
       "  </tbody>\n",
       "</table>\n",
       "</div>"
      ],
      "text/plain": [
       "           Sapato  Bolsa  Camisa  Dentadura\n",
       "Gildárcio       1      2       3          4\n",
       "Shigemura       1      4       3          2\n",
       "Henrique        2      1       3          4\n",
       "Jean            4      2       3          1"
      ]
     },
     "execution_count": 6,
     "metadata": {},
     "output_type": "execute_result"
    }
   ],
   "source": [
    "influenciador_df"
   ]
  },
  {
   "cell_type": "markdown",
   "metadata": {},
   "source": [
    "# Algoritmo de Gale-Shapley"
   ]
  },
  {
   "cell_type": "code",
   "execution_count": 7,
   "metadata": {},
   "outputs": [],
   "source": [
    "# dict para controlar quais produtos cada influenciador recomenda\n",
    "produtos_disponiveis = {influenciador:produtos_list for influenciador in influenciador_list}\n",
    "# lista de espera de influenciadores que podem parear a cada iteração\n",
    "lista_espera = []\n",
    "# dict para armazenar os pareamentos\n",
    "recomendacoes = {}\n",
    "# variável para contar o número de iterações\n",
    "contador = 0"
   ]
  },
  {
   "cell_type": "code",
   "execution_count": 8,
   "metadata": {},
   "outputs": [],
   "source": [
    "# enquanto os influenciadores não foram pareados\n",
    "while len(lista_espera)<len(influenciador_list):\n",
    "    # influenciador faz recomendacoes\n",
    "    for influenciador in influenciador_list:\n",
    "        if influenciador not in lista_espera:\n",
    "            # cada influenciador faz recomendação para os produtos preferidos de sua lista\n",
    "            produtos = produtos_disponiveis[influenciador]\n",
    "            melhor_escolha = influenciador_df.loc[influenciador][influenciador_df.loc[influenciador].index.isin(produtos)].idxmin()\n",
    "            recomendacoes[(influenciador, melhor_escolha)]=(influenciador_df.loc[influenciador][melhor_escolha],\n",
    "                                                 produtos_df.loc[influenciador][melhor_escolha])\n",
    "    # se cada produto possui mais de uma recomendacão\n",
    "    # a recomendação será a melhor opção\n",
    "    lista_opcoes = Counter([key[1] for key in recomendacoes.keys()])\n",
    "    # ciclo para escolher as melhores opções\n",
    "    for produtos in lista_opcoes.keys():\n",
    "        if lista_opcoes[produtos]>1:\n",
    "            # pares para sairem da lista de recomendações\n",
    "            pares_para_descarte = sorted({pair: recomendacoes[pair] for pair in recomendacoes.keys() \n",
    "                if produtos in pair}.items(), \n",
    "                    key = lambda x: x[1][1]\n",
    "                )[1:]\n",
    "            # se o influenciador foi rejeitado para a recomendacao\n",
    "            # então não há razão para ele fazê-la\n",
    "            # novamente para o mesmo produto\n",
    "            for par_descarte in pares_para_descarte:\n",
    "                del recomendacoes[par_descarte[0]]\n",
    "                _produtos = copy(produtos_disponiveis[par_descarte[0][0]])\n",
    "                _produtos.remove(par_descarte[0][1])\n",
    "                produtos_disponiveis[par_descarte[0][0]] = _produtos\n",
    "    # influenciador que foi pareado com sucesso deve ser adicionado à lista de espera\n",
    "    lista_espera = [influenciador[0] for influenciador in recomendacoes.keys()]\n",
    "    # atualiza o contador\n",
    "    contador += 1"
   ]
  },
  {
   "cell_type": "markdown",
   "metadata": {},
   "source": [
    "## Pares estáveis\n",
    "_ver \"Gale, David, and Lloyd S. Shapley. \"College admissions and the stability of marriage.\" The American Mathematical Monthly 69.1 (1962): 9-15.\"_"
   ]
  },
  {
   "cell_type": "code",
   "execution_count": 9,
   "metadata": {},
   "outputs": [
    {
     "data": {
      "text/plain": [
       "{('Shigemura', 'Dentadura'): (2, 2),\n",
       " ('Jean', 'Bolsa'): (2, 2),\n",
       " ('Henrique', 'Sapato'): (2, 2),\n",
       " ('Gildárcio', 'Camisa'): (3, 2)}"
      ]
     },
     "execution_count": 9,
     "metadata": {},
     "output_type": "execute_result"
    }
   ],
   "source": [
    "recomendacoes"
   ]
  },
  {
   "cell_type": "code",
   "execution_count": 10,
   "metadata": {},
   "outputs": [
    {
     "data": {
      "text/plain": [
       "6"
      ]
     },
     "execution_count": 10,
     "metadata": {},
     "output_type": "execute_result"
    }
   ],
   "source": [
    "contador"
   ]
  },
  {
   "cell_type": "markdown",
   "metadata": {},
   "source": [
    "> Fim"
   ]
  }
 ],
 "metadata": {
  "kernelspec": {
   "display_name": "Python 3",
   "language": "python",
   "name": "python3"
  },
  "language_info": {
   "codemirror_mode": {
    "name": "ipython",
    "version": 3
   },
   "file_extension": ".py",
   "mimetype": "text/x-python",
   "name": "python",
   "nbconvert_exporter": "python",
   "pygments_lexer": "ipython3",
   "version": "3.8.2"
  }
 },
 "nbformat": 4,
 "nbformat_minor": 4
}
