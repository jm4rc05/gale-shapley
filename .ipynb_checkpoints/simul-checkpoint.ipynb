{
 "cells": [
  {
   "cell_type": "code",
   "execution_count": 38,
   "metadata": {},
   "outputs": [
    {
     "name": "stdout",
     "output_type": "stream",
     "text": [
      "Melhores influenciadores para cada comerciante:\n",
      "[('Vieira SA', 'Jean'), ('Loubach SA', 'Shigemura'), ('Cunha SA', 'Gildárcio'), ('Lineu SA', 'Henrique')]\n",
      "\n",
      "Melhores influenciadores para cada produto:\n",
      "[('Camarão', 'Shigemura'), ('Bolsa', 'Jean'), ('Armário', 'Gildárcio'), ('Dentadura', 'Henrique')]\n",
      "\n"
     ]
    }
   ],
   "source": [
    "from collections import deque\n",
    "\n",
    "def pref_prioridade(pref):\n",
    "    return {\n",
    "        a: {b: idx for idx, b in enumerate(a_pref)}\n",
    "        for a, a_pref in pref.items()\n",
    "    }\n",
    "\n",
    "def gale_shapley(*, A, B, A_pref, B_pref):\n",
    "\n",
    "    B_prioridade = pref_prioridade(B_pref)\n",
    "    lista_espera = {a: deque(bs) for a, bs in A_pref.items()}\n",
    "    par = {}\n",
    "    \n",
    "    restante_A = set(A)\n",
    "    while len(restante_A) > 0:\n",
    "        a = restante_A.pop()\n",
    "        b = lista_espera[a].popleft()\n",
    "        if b not in par:\n",
    "            par[b] = a\n",
    "        else:\n",
    "            a0 = par[b]\n",
    "            b_prefer_a0 = B_prioridade[b][a0] < B_prioridade[b][a]\n",
    "            if b_prefer_a0:\n",
    "                restante_A.add(a)\n",
    "            else:\n",
    "                restante_A.add(a0)\n",
    "                par[b] = a\n",
    "    \n",
    "    return [(a, b) for b, a in par.items()]\n",
    "\n",
    "comerciantes = {'Cunha SA', 'Vieira SA', 'Lineu SA', 'Loubach SA'}\n",
    "influenciadores = {'Gildárcio', 'Shigemura', 'Henrique', 'Jean'}\n",
    "\n",
    "comerciante_influenciador_pref = {\n",
    "    'Cunha SA': ['Gildárcio', 'Shigemura', 'Henrique', 'Jean'], \n",
    "    'Vieira SA': ['Jean', 'Shigemura', 'Gildárcio', 'Henrique'], \n",
    "    'Lineu SA':['Shigemura', 'Henrique', 'Gildárcio', 'Jean'], \n",
    "    'Loubach SA':['Shigemura', 'Henrique', 'Gildárcio', 'Jean']\n",
    "}\n",
    "influenciador_comerciante_pref = {\n",
    "    'Gildárcio': ['Cunha SA', 'Vieira SA', 'Lineu SA', 'Loubach SA'], \n",
    "    'Shigemura': ['Loubach SA', 'Lineu SA', 'Cunha SA', 'Vieira SA'], \n",
    "    'Henrique': ['Cunha SA', 'Loubach SA', 'Vieira SA', 'Lineu SA'], \n",
    "    'Jean': ['Vieira SA', 'Cunha SA', 'Loubach SA', 'Lineu SA']\n",
    "}\n",
    "\n",
    "produtos = {'Armário', 'Bolsa', 'Camarão', 'Dentadura'}\n",
    "produto_influenciador_pref = {\n",
    "    'Armário': ['Gildárcio', 'Shigemura', 'Henrique', 'Jean'], \n",
    "    'Bolsa': ['Jean', 'Shigemura', 'Gildárcio', 'Henrique'], \n",
    "    'Camarão':['Shigemura', 'Henrique', 'Gildárcio', 'Jean'], \n",
    "    'Dentadura':['Shigemura', 'Henrique', 'Gildárcio', 'Jean']\n",
    "\n",
    "}\n",
    "influenciador_produto_pref = {\n",
    "    'Gildárcio': ['Armário', 'Bolsa', 'Camarão', 'Dentadura'], \n",
    "    'Shigemura': ['Camarão', 'Armário', 'Bolsa', 'Dentadura'], \n",
    "    'Henrique': ['Armário', 'Dentadura', 'Camarão', 'Bolsa'], \n",
    "    'Jean': ['Bolsa', 'Camarão', 'Dentadura', 'Armário']    \n",
    "}\n",
    "\n",
    "print(F'Melhores influenciadores para cada comerciante:\\n{gale_shapley(A = comerciantes, B = influenciadores, A_pref = comerciante_influenciador_pref, B_pref = influenciador_comerciante_pref)}\\n')\n",
    "\n",
    "print(F'Melhores influenciadores para cada produto:\\n{gale_shapley(A = produtos, B = influenciadores, A_pref = produto_influenciador_pref, B_pref = influenciador_produto_pref)}\\n')"
   ]
  },
  {
   "cell_type": "markdown",
   "metadata": {},
   "source": [
    "## Pares estáveis\n",
    "_ver \"Gale, David, and Lloyd S. Shapley. \"College admissions and the stability of marriage.\" The American Mathematical Monthly 69.1 (1962): 9-15.\"_"
   ]
  },
  {
   "cell_type": "markdown",
   "metadata": {},
   "source": [
    "> Fim"
   ]
  }
 ],
 "metadata": {
  "kernelspec": {
   "display_name": "Python 3",
   "language": "python",
   "name": "python3"
  },
  "language_info": {
   "codemirror_mode": {
    "name": "ipython",
    "version": 3
   },
   "file_extension": ".py",
   "mimetype": "text/x-python",
   "name": "python",
   "nbconvert_exporter": "python",
   "pygments_lexer": "ipython3",
   "version": "3.8.2"
  }
 },
 "nbformat": 4,
 "nbformat_minor": 4
}
