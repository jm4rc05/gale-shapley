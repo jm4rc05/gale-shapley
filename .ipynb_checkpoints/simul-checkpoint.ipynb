{
 "cells": [
  {
   "cell_type": "code",
   "execution_count": 1,
   "metadata": {},
   "outputs": [
    {
     "name": "stdout",
     "output_type": "stream",
     "text": [
      "Requirement already satisfied: galeshapley in /Users/marcos/.pyenv/versions/3.8.2/lib/python3.8/site-packages (0.0.1)\n",
      "Melhores influenciadores para cada comerciante:\n",
      "[('Loubach SA', 'Shigemura'), ('Vieira SA', 'Jean'), ('Cunha SA', 'Gildárcio'), ('Lineu SA', 'Henrique')]\n",
      "\n",
      "Melhores influenciadores para cada produto:\n",
      "[('Camarão', 'Shigemura'), ('Bolsa', 'Jean'), ('Armário', 'Gildárcio'), ('Dentadura', 'Henrique')]\n",
      "\n"
     ]
    }
   ],
   "source": [
    "import sys\n",
    "!{sys.executable} -m pip install galeshapley --upgrade\n",
    "\n",
    "from galeshapley import algorithm\n",
    "\n",
    "comerciantes = {'Cunha SA', 'Vieira SA', 'Lineu SA', 'Loubach SA'}\n",
    "influenciadores = {'Gildárcio', 'Shigemura', 'Henrique', 'Jean'}\n",
    "\n",
    "comerciante_influenciador_pref = {\n",
    "    'Cunha SA': ['Gildárcio', 'Shigemura', 'Henrique', 'Jean'], \n",
    "    'Vieira SA': ['Jean', 'Shigemura', 'Gildárcio', 'Henrique'], \n",
    "    'Lineu SA':['Shigemura', 'Henrique', 'Gildárcio', 'Jean'], \n",
    "    'Loubach SA':['Shigemura', 'Henrique', 'Gildárcio', 'Jean']\n",
    "}\n",
    "influenciador_comerciante_pref = {\n",
    "    'Gildárcio': ['Cunha SA', 'Vieira SA', 'Lineu SA', 'Loubach SA'], \n",
    "    'Shigemura': ['Loubach SA', 'Lineu SA', 'Cunha SA', 'Vieira SA'], \n",
    "    'Henrique': ['Cunha SA', 'Loubach SA', 'Vieira SA', 'Lineu SA'], \n",
    "    'Jean': ['Vieira SA', 'Cunha SA', 'Loubach SA', 'Lineu SA']\n",
    "}\n",
    "\n",
    "produtos = {'Armário', 'Bolsa', 'Camarão', 'Dentadura'}\n",
    "produto_influenciador_pref = {\n",
    "    'Armário': ['Gildárcio', 'Shigemura', 'Henrique', 'Jean'], \n",
    "    'Bolsa': ['Jean', 'Shigemura', 'Gildárcio', 'Henrique'], \n",
    "    'Camarão':['Shigemura', 'Henrique', 'Gildárcio', 'Jean'], \n",
    "    'Dentadura':['Shigemura', 'Henrique', 'Gildárcio', 'Jean']\n",
    "\n",
    "}\n",
    "influenciador_produto_pref = {\n",
    "    'Gildárcio': ['Armário', 'Bolsa', 'Camarão', 'Dentadura'], \n",
    "    'Shigemura': ['Camarão', 'Armário', 'Bolsa', 'Dentadura'], \n",
    "    'Henrique': ['Armário', 'Dentadura', 'Camarão', 'Bolsa'], \n",
    "    'Jean': ['Bolsa', 'Camarão', 'Dentadura', 'Armário']    \n",
    "}\n",
    "\n",
    "influenciadores_para_comerciantes = algorithm.match(\n",
    "    A = comerciantes, \n",
    "    B = influenciadores, \n",
    "    A_pref = comerciante_influenciador_pref, \n",
    "    B_pref = influenciador_comerciante_pref)\n",
    "print(F'Melhores influenciadores para cada comerciante:\\n{influenciadores_para_comerciantes}\\n')\n",
    "\n",
    "influenciadores_para_produtos = algorithm.match(\n",
    "    A = produtos, \n",
    "    B = influenciadores, \n",
    "    A_pref = produto_influenciador_pref, \n",
    "    B_pref = influenciador_produto_pref\n",
    ")\n",
    "print(F'Melhores influenciadores para cada produto:\\n{influenciadores_para_produtos}\\n')"
   ]
  },
  {
   "cell_type": "markdown",
   "metadata": {},
   "source": [
    "## Pares estáveis\n",
    "_ver \"Gale, David, and Lloyd S. Shapley. \"College admissions and the stability of marriage.\" The American Mathematical Monthly 69.1 (1962): 9-15.\"_"
   ]
  },
  {
   "cell_type": "markdown",
   "metadata": {},
   "source": [
    "> Fim"
   ]
  }
 ],
 "metadata": {
  "kernelspec": {
   "display_name": "Python 3",
   "language": "python",
   "name": "python3"
  },
  "language_info": {
   "codemirror_mode": {
    "name": "ipython",
    "version": 3
   },
   "file_extension": ".py",
   "mimetype": "text/x-python",
   "name": "python",
   "nbconvert_exporter": "python",
   "pygments_lexer": "ipython3",
   "version": "3.8.2"
  }
 },
 "nbformat": 4,
 "nbformat_minor": 4
}
