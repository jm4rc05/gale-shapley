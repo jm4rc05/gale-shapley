{
 "cells": [
  {
   "cell_type": "code",
   "execution_count": 1,
   "id": "52b86e21-d4fa-43c1-8d5f-0a38ebec5ad7",
   "metadata": {},
   "outputs": [
    {
     "data": {
      "text/plain": [
       "{'Gildárcio': 'Cunha SA',\n",
       " 'Shigemura': 'Lineu SA',\n",
       " 'Henrique': 'Cunha SA',\n",
       " 'Jean': 'Cunha SA',\n",
       " 'Vinicius': 'Vieira SA',\n",
       " 'Bresley': 'Loubach SA',\n",
       " 'Marcos': 'Vieira SA',\n",
       " 'Antonio': None}"
      ]
     },
     "execution_count": 1,
     "metadata": {},
     "output_type": "execute_result"
    }
   ],
   "source": [
    "import queue\n",
    "\n",
    "def multipleMatch(*, A_pref, B_pref, B_restricoes):\n",
    "    A = list(A_pref.keys())\n",
    "    B = list(B_pref.keys())\n",
    "    apontador = {}\n",
    "    A_prefDict = {}\n",
    "    ABDict = {}\n",
    "    pos_abertas = queue.Queue()\n",
    "\n",
    "    for i in range(len(B)):\n",
    "        # coloca todos A livres na fila\n",
    "        for j in range(B_restricoes[B[i]]):\n",
    "            pos_abertas.put(B[i])\n",
    "        apontador[B[i]] = 0\n",
    "    for i in range(len(A)):\n",
    "        # Nenhum A ainda\n",
    "        ABDict[A[i]] = None\n",
    "        # Dicionário para pegar as preferências\n",
    "        A_prefDict[A[i]] = {}\n",
    "        for j in range(len(B)):\n",
    "            # Salvar no dict uma lista para cada A que mapeia um B na posição preferida que ele está\n",
    "            A_prefDict[A[i]][A_pref[A[i]][j]] = j\n",
    "    # Loop de A que não achou um par ainda\n",
    "    while not pos_abertas.empty():\n",
    "        vaga = pos_abertas.get()\n",
    "        # O próximo na lista de preferências de A\n",
    "        B_preferencia = B_pref[vaga][apontador[vaga]]\n",
    "        apontador[vaga] = apontador[vaga] + 1\n",
    "        # Já foi dado o espaço em B?\n",
    "        ocupado = ABDict[B_preferencia]\n",
    "        if ocupado != None:\n",
    "            # B prefere este A?\n",
    "            posicao_atual = A_prefDict[B_preferencia][ocupado]\n",
    "            posicao_proposta = A_prefDict[B_preferencia][vaga]\n",
    "            if posicao_atual > posicao_proposta:\n",
    "                # O A atual é mais cotado para B, então troca\n",
    "                pos_abertas.put(ocupado)\n",
    "                ABDict[B_preferencia] = vaga\n",
    "            else:\n",
    "                # O A atual não é o mais cotado, então coloca de volta na fila\n",
    "                pos_abertas.put(vaga)\n",
    "        else:\n",
    "            # Não foi escolhido ainda - faz um par por enquanto\n",
    "            ABDict[B_preferencia] = vaga\n",
    "\n",
    "    return ABDict\n",
    "\n",
    "influenciadores_pref = {\n",
    "    'Gildárcio':     ['Cunha SA', 'Vieira SA', 'Lineu SA', 'Loubach SA'],\n",
    "    'Shigemura':      ['Vieira SA', 'Lineu SA', 'Loubach SA', 'Cunha SA'],\n",
    "    'Henrique': ['Lineu SA', 'Loubach SA', 'Cunha SA', 'Vieira SA'],\n",
    "    'Jean':    ['Lineu SA', 'Vieira SA', 'Loubach SA', 'Cunha SA'],\n",
    "    'Vinicius':     ['Lineu SA', 'Vieira SA', 'Cunha SA', 'Loubach SA'],\n",
    "    'Bresley':   ['Vieira SA', 'Cunha SA', 'Lineu SA', 'Loubach SA'],\n",
    "    'Marcos':     ['Cunha SA', 'Vieira SA', 'Lineu SA', 'Loubach SA'],\n",
    "    'Antonio':   ['Lineu SA', 'Cunha SA', 'Vieira SA', 'Loubach SA']\n",
    "}\n",
    "comerciantes_pref = {\n",
    "    'Cunha SA':     ['Shigemura', 'Henrique', 'Jean', 'Gildárcio', 'Antonio', 'Marcos', 'Vinicius', 'Bresley'],\n",
    "    'Vieira SA':  ['Vinicius', 'Marcos', 'Bresley', 'Henrique', 'Gildárcio', 'Shigemura', 'Jean', 'Antonio'],\n",
    "    'Lineu SA':     ['Shigemura', 'Jean', 'Gildárcio', 'Henrique', 'Vinicius', 'Antonio', 'Bresley', 'Marcos'],\n",
    "    'Loubach SA':      ['Bresley', 'Marcos', 'Antonio', 'Vinicius', 'Jean', 'Gildárcio', 'Shigemura', 'Henrique']\n",
    "}\n",
    "comerciantes_restricoes = {\n",
    "    'Cunha SA': 3,\n",
    "    'Vieira SA': 2,\n",
    "    'Lineu SA': 1,\n",
    "    'Loubach SA': 1\n",
    "}\n",
    "\n",
    "multipleMatch(\n",
    "    A_pref = influenciadores_pref,\n",
    "    B_pref = comerciantes_pref,\n",
    "    B_restricoes = comerciantes_restricoes\n",
    ")"
   ]
  }
 ],
 "metadata": {
  "kernelspec": {
   "display_name": "Python 3",
   "language": "python",
   "name": "python3"
  },
  "language_info": {
   "codemirror_mode": {
    "name": "ipython",
    "version": 3
   },
   "file_extension": ".py",
   "mimetype": "text/x-python",
   "name": "python",
   "nbconvert_exporter": "python",
   "pygments_lexer": "ipython3",
   "version": "3.8.2"
  }
 },
 "nbformat": 4,
 "nbformat_minor": 5
}
