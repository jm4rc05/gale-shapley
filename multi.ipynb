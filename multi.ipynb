{
 "cells": [
  {
   "cell_type": "code",
   "execution_count": 1,
   "id": "52b86e21-d4fa-43c1-8d5f-0a38ebec5ad7",
   "metadata": {},
   "outputs": [
    {
     "name": "stdout",
     "output_type": "stream",
     "text": [
      "Requirement already satisfied: galeshapley in /Users/marcos/.pyenv/versions/3.8.2/lib/python3.8/site-packages (0.0.6)\n",
      "\n",
      "\n",
      "Melhores influenciadores para cada comerciante:\n"
     ]
    },
    {
     "data": {
      "text/plain": [
       "[('Cunha SA', 'Gildárcio'),\n",
       " ('Lineu SA', 'Shigemura'),\n",
       " ('Cunha SA', 'Henrique'),\n",
       " ('Cunha SA', 'Jean'),\n",
       " ('Vieira SA', 'Vinicius'),\n",
       " ('Loubach SA', 'Bresley'),\n",
       " ('Vieira SA', 'Marcos'),\n",
       " (None, 'Alfredo')]"
      ]
     },
     "execution_count": 1,
     "metadata": {},
     "output_type": "execute_result"
    }
   ],
   "source": [
    "import sys\n",
    "!{sys.executable} -m pip install galeshapley --upgrade\n",
    "\n",
    "from galeshapley import algorithm\n",
    "\n",
    "multi_influenciador_comerciante_pref = {\n",
    "    'Gildárcio':     ['Cunha SA', 'Vieira SA', 'Lineu SA', 'Loubach SA'],\n",
    "    'Shigemura':      ['Vieira SA', 'Lineu SA', 'Loubach SA', 'Cunha SA'],\n",
    "    'Henrique': ['Lineu SA', 'Loubach SA', 'Cunha SA', 'Vieira SA'],\n",
    "    'Jean':    ['Lineu SA', 'Vieira SA', 'Loubach SA', 'Cunha SA'],\n",
    "    'Vinicius':     ['Lineu SA', 'Vieira SA', 'Cunha SA', 'Loubach SA'],\n",
    "    'Bresley':   ['Vieira SA', 'Cunha SA', 'Lineu SA', 'Loubach SA'],\n",
    "    'Marcos':     ['Cunha SA', 'Vieira SA', 'Lineu SA', 'Loubach SA'],\n",
    "    'Alfredo':   ['Lineu SA', 'Cunha SA', 'Vieira SA', 'Loubach SA']\n",
    "}\n",
    "multi_comerciante_influenciador_pref = {\n",
    "    'Cunha SA':     ['Shigemura', 'Henrique', 'Jean', 'Gildárcio', 'Alfredo', 'Marcos', 'Vinicius', 'Bresley'],\n",
    "    'Vieira SA':  ['Vinicius', 'Marcos', 'Bresley', 'Henrique', 'Gildárcio', 'Shigemura', 'Jean', 'Alfredo'],\n",
    "    'Lineu SA':     ['Shigemura', 'Jean', 'Gildárcio', 'Henrique', 'Vinicius', 'Alfredo', 'Bresley', 'Marcos'],\n",
    "    'Loubach SA':      ['Bresley', 'Marcos', 'Alfredo', 'Vinicius', 'Jean', 'Gildárcio', 'Shigemura', 'Henrique']\n",
    "}\n",
    "comerciante_restricao = {\n",
    "    'Cunha SA': 3,\n",
    "    'Vieira SA': 2,\n",
    "    'Lineu SA': 1,\n",
    "    'Loubach SA': 1\n",
    "}\n",
    "\n",
    "influenciadores_para_comerciantes = algorithm.multipleMatch(\n",
    "    A_pref = multi_influenciador_comerciante_pref,\n",
    "    B_pref = multi_comerciante_influenciador_pref,\n",
    "    B_restricoes = comerciante_restricao\n",
    ")\n",
    "\n",
    "print('\\n\\nMelhores influenciadores para cada comerciante:')\n",
    "influenciadores_para_comerciantes"
   ]
  }
 ],
 "metadata": {
  "kernelspec": {
   "display_name": "Python 3",
   "language": "python",
   "name": "python3"
  },
  "language_info": {
   "codemirror_mode": {
    "name": "ipython",
    "version": 3
   },
   "file_extension": ".py",
   "mimetype": "text/x-python",
   "name": "python",
   "nbconvert_exporter": "python",
   "pygments_lexer": "ipython3",
   "version": "3.8.2"
  }
 },
 "nbformat": 4,
 "nbformat_minor": 5
}
