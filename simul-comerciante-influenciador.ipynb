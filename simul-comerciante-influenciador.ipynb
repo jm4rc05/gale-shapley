{
 "cells": [
  {
   "cell_type": "code",
   "execution_count": 1,
   "metadata": {},
   "outputs": [],
   "source": [
    "import pandas as pd\n",
    "import numpy as np\n",
    "from collections import Counter\n",
    "from copy import copy"
   ]
  },
  {
   "cell_type": "markdown",
   "metadata": {},
   "source": [
    "# Definir as listas e suas preferências"
   ]
  },
  {
   "cell_type": "code",
   "execution_count": 2,
   "metadata": {},
   "outputs": [],
   "source": [
    "comerciantes_list = ['Cunha SA', 'Vieira SA', 'Lineu SA', 'Loubach SA']\n",
    "influenciadores_list = ['Gildárcio', 'Shigemura', 'Henrique', 'Jean']"
   ]
  },
  {
   "cell_type": "markdown",
   "metadata": {},
   "source": [
    "## Lista dos melhores comerciantes para cada influenciador\n",
    "### Como obter esta lista? Por indicações, histórico de iterações, etc.?"
   ]
  },
  {
   "cell_type": "code",
   "execution_count": 3,
   "metadata": {},
   "outputs": [],
   "source": [
    "influenciadores_df = pd.DataFrame({'Gildárcio': [3,2,4,1], 'Shigemura': [3,1,4,2], 'Henrique':[2,3,4,1], 'Jean':[3,2,1,4]})\n",
    "influenciadores_df.index = comerciantes_list"
   ]
  },
  {
   "cell_type": "markdown",
   "metadata": {},
   "source": [
    "## Lista dos melhores influenciadores para cada comerciante\n",
    "### Esta lista pode ser obtida pelo histórico de iterações do comerciante com os influenciadores!"
   ]
  },
  {
   "cell_type": "code",
   "execution_count": 4,
   "metadata": {},
   "outputs": [],
   "source": [
    "comerciantes_df = pd.DataFrame({'Gildárcio': [1,3,3,4], 'Shigemura': [2,4,1,2], 'Henrique':[3,1,2,3], 'Jean':[4,2,4,1]})\n",
    "comerciantes_df.index = comerciantes_list"
   ]
  },
  {
   "cell_type": "code",
   "execution_count": 5,
   "metadata": {},
   "outputs": [
    {
     "data": {
      "text/html": [
       "<div>\n",
       "<style scoped>\n",
       "    .dataframe tbody tr th:only-of-type {\n",
       "        vertical-align: middle;\n",
       "    }\n",
       "\n",
       "    .dataframe tbody tr th {\n",
       "        vertical-align: top;\n",
       "    }\n",
       "\n",
       "    .dataframe thead th {\n",
       "        text-align: right;\n",
       "    }\n",
       "</style>\n",
       "<table border=\"1\" class=\"dataframe\">\n",
       "  <thead>\n",
       "    <tr style=\"text-align: right;\">\n",
       "      <th></th>\n",
       "      <th>Gildárcio</th>\n",
       "      <th>Shigemura</th>\n",
       "      <th>Henrique</th>\n",
       "      <th>Jean</th>\n",
       "    </tr>\n",
       "  </thead>\n",
       "  <tbody>\n",
       "    <tr>\n",
       "      <th>Cunha SA</th>\n",
       "      <td>3</td>\n",
       "      <td>3</td>\n",
       "      <td>2</td>\n",
       "      <td>3</td>\n",
       "    </tr>\n",
       "    <tr>\n",
       "      <th>Vieira SA</th>\n",
       "      <td>2</td>\n",
       "      <td>1</td>\n",
       "      <td>3</td>\n",
       "      <td>2</td>\n",
       "    </tr>\n",
       "    <tr>\n",
       "      <th>Lineu SA</th>\n",
       "      <td>4</td>\n",
       "      <td>4</td>\n",
       "      <td>4</td>\n",
       "      <td>1</td>\n",
       "    </tr>\n",
       "    <tr>\n",
       "      <th>Loubach SA</th>\n",
       "      <td>1</td>\n",
       "      <td>2</td>\n",
       "      <td>1</td>\n",
       "      <td>4</td>\n",
       "    </tr>\n",
       "  </tbody>\n",
       "</table>\n",
       "</div>"
      ],
      "text/plain": [
       "            Gildárcio  Shigemura  Henrique  Jean\n",
       "Cunha SA            3          3         2     3\n",
       "Vieira SA           2          1         3     2\n",
       "Lineu SA            4          4         4     1\n",
       "Loubach SA          1          2         1     4"
      ]
     },
     "execution_count": 5,
     "metadata": {},
     "output_type": "execute_result"
    }
   ],
   "source": [
    "influenciadores_df"
   ]
  },
  {
   "cell_type": "code",
   "execution_count": 6,
   "metadata": {},
   "outputs": [
    {
     "data": {
      "text/html": [
       "<div>\n",
       "<style scoped>\n",
       "    .dataframe tbody tr th:only-of-type {\n",
       "        vertical-align: middle;\n",
       "    }\n",
       "\n",
       "    .dataframe tbody tr th {\n",
       "        vertical-align: top;\n",
       "    }\n",
       "\n",
       "    .dataframe thead th {\n",
       "        text-align: right;\n",
       "    }\n",
       "</style>\n",
       "<table border=\"1\" class=\"dataframe\">\n",
       "  <thead>\n",
       "    <tr style=\"text-align: right;\">\n",
       "      <th></th>\n",
       "      <th>Gildárcio</th>\n",
       "      <th>Shigemura</th>\n",
       "      <th>Henrique</th>\n",
       "      <th>Jean</th>\n",
       "    </tr>\n",
       "  </thead>\n",
       "  <tbody>\n",
       "    <tr>\n",
       "      <th>Cunha SA</th>\n",
       "      <td>1</td>\n",
       "      <td>2</td>\n",
       "      <td>3</td>\n",
       "      <td>4</td>\n",
       "    </tr>\n",
       "    <tr>\n",
       "      <th>Vieira SA</th>\n",
       "      <td>3</td>\n",
       "      <td>4</td>\n",
       "      <td>1</td>\n",
       "      <td>2</td>\n",
       "    </tr>\n",
       "    <tr>\n",
       "      <th>Lineu SA</th>\n",
       "      <td>3</td>\n",
       "      <td>1</td>\n",
       "      <td>2</td>\n",
       "      <td>4</td>\n",
       "    </tr>\n",
       "    <tr>\n",
       "      <th>Loubach SA</th>\n",
       "      <td>4</td>\n",
       "      <td>2</td>\n",
       "      <td>3</td>\n",
       "      <td>1</td>\n",
       "    </tr>\n",
       "  </tbody>\n",
       "</table>\n",
       "</div>"
      ],
      "text/plain": [
       "            Gildárcio  Shigemura  Henrique  Jean\n",
       "Cunha SA            1          2         3     4\n",
       "Vieira SA           3          4         1     2\n",
       "Lineu SA            3          1         2     4\n",
       "Loubach SA          4          2         3     1"
      ]
     },
     "execution_count": 6,
     "metadata": {},
     "output_type": "execute_result"
    }
   ],
   "source": [
    "comerciantes_df"
   ]
  },
  {
   "cell_type": "markdown",
   "metadata": {},
   "source": [
    "# Algoritmo de Gale-Shapley"
   ]
  },
  {
   "cell_type": "code",
   "execution_count": 7,
   "metadata": {},
   "outputs": [],
   "source": [
    "# dicionário para controlar quais influenciadores cada comerciante recomenda\n",
    "influenciadores_disponiveis = {comerciante:influenciadores_list for comerciante in comerciantes_list}\n",
    "# lista de espera de comerciantes que podem parear a cada iteração\n",
    "lista_espera = []\n",
    "# dicionário para armazenar os pareamentos\n",
    "recomendacoes = {}\n",
    "# variável para contar o número de iterações\n",
    "contador = 0"
   ]
  },
  {
   "cell_type": "code",
   "execution_count": 8,
   "metadata": {},
   "outputs": [],
   "source": [
    "# enquanto os comerciantes não foram pareados\n",
    "while len(lista_espera) < len(comerciantes_list):\n",
    "    # comerciante faz recomendacoes\n",
    "    for comerciante in comerciantes_list:\n",
    "        if comerciante not in lista_espera:\n",
    "            # cada comerciante faz recomendação para os influenciadores preferidos de sua lista\n",
    "            influenciadores = influenciadores_disponiveis[comerciante]\n",
    "            melhor_escolha = comerciantes_df.loc[comerciante][comerciantes_df.loc[comerciante].index.isin(influenciadores)].idxmin()\n",
    "            recomendacoes[(comerciante, melhor_escolha)] = (comerciantes_df.loc[comerciante][melhor_escolha], \n",
    "                                                              influenciadores_df.loc[comerciante][melhor_escolha])\n",
    "    # se cada influenciador possui mais de uma recomendacão\n",
    "    # a recomendação será a melhor opção\n",
    "    lista_opcoes = Counter([key[1] for key in recomendacoes.keys()])\n",
    "    # ciclo para escolher as melhores opções\n",
    "    for influenciadores in lista_opcoes.keys():\n",
    "        if lista_opcoes[influenciadores] > 1:\n",
    "            # pares para sairem da lista de recomendações\n",
    "            pares_para_descarte = sorted({pair: recomendacoes[pair] for pair in recomendacoes.keys() \n",
    "                if influenciadores in pair}.items(), \n",
    "                    key = lambda x: x[1][1]\n",
    "                )[1:]\n",
    "            # se o comerciante foi rejeitado para a recomendacao\n",
    "            # então não há razão para ele fazê-la\n",
    "            # novamente para o mesmo influenciador\n",
    "            for par_descarte in pares_para_descarte:\n",
    "                del recomendacoes[par_descarte[0]]\n",
    "                _influenciadores = copy(influenciadores_disponiveis[par_descarte[0][0]])\n",
    "                _influenciadores.remove(par_descarte[0][1])\n",
    "                influenciadores_disponiveis[par_descarte[0][0]] = _influenciadores\n",
    "    # comerciante que foi pareado com sucesso deve ser adicionado à lista de espera\n",
    "    lista_espera = [comerciante[0] for comerciante in recomendacoes.keys()]\n",
    "    # atualiza o contador\n",
    "    contador += 1"
   ]
  },
  {
   "cell_type": "markdown",
   "metadata": {},
   "source": [
    "## Pares estáveis\n",
    "_ver \"Gale, David, and Lloyd S. Shapley. \"College admissions and the stability of marriage.\" The American Mathematical Monthly 69.1 (1962): 9-15.\"_"
   ]
  },
  {
   "cell_type": "code",
   "execution_count": 9,
   "metadata": {},
   "outputs": [
    {
     "data": {
      "text/plain": [
       "{('Cunha SA', 'Gildárcio'): (1, 3),\n",
       " ('Vieira SA', 'Henrique'): (1, 3),\n",
       " ('Lineu SA', 'Shigemura'): (1, 4),\n",
       " ('Loubach SA', 'Jean'): (1, 4)}"
      ]
     },
     "execution_count": 9,
     "metadata": {},
     "output_type": "execute_result"
    }
   ],
   "source": [
    "recomendacoes"
   ]
  },
  {
   "cell_type": "code",
   "execution_count": 10,
   "metadata": {},
   "outputs": [
    {
     "data": {
      "text/plain": [
       "1"
      ]
     },
     "execution_count": 10,
     "metadata": {},
     "output_type": "execute_result"
    }
   ],
   "source": [
    "contador"
   ]
  },
  {
   "cell_type": "markdown",
   "metadata": {},
   "source": [
    "> Fim"
   ]
  }
 ],
 "metadata": {
  "kernelspec": {
   "display_name": "Python 3",
   "language": "python",
   "name": "python3"
  },
  "language_info": {
   "codemirror_mode": {
    "name": "ipython",
    "version": 3
   },
   "file_extension": ".py",
   "mimetype": "text/x-python",
   "name": "python",
   "nbconvert_exporter": "python",
   "pygments_lexer": "ipython3",
   "version": "3.8.2"
  }
 },
 "nbformat": 4,
 "nbformat_minor": 4
}
