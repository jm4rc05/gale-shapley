{
 "cells": [
  {
   "cell_type": "markdown",
   "metadata": {},
   "source": [
    "# Aplicação do algoritmo de _Gale-Shapley_ para recomendações de **Influenciadores, Produtos e Comerciantes**\n",
    "\n",
    "Neste exemplo iremos resolver o problema de gerar recomendações de Influenciadores para Comerciantes de Produtos utilizando dados tabulares, cobrindo aspectos de manipulação dos dados e interpretação dos resultados."
   ]
  },
  {
   "cell_type": "code",
   "execution_count": null,
   "metadata": {},
   "outputs": [],
   "source": [
    "# Hack para instalar a lib\n",
    "import sys\n",
    "!{sys.executable} -m pip install galeshapley --upgrade"
   ]
  },
  {
   "cell_type": "code",
   "execution_count": null,
   "metadata": {},
   "outputs": [],
   "source": [
    "from galeshapley.games import PlayerAllocation"
   ]
  },
  {
   "cell_type": "code",
   "execution_count": null,
   "metadata": {},
   "outputs": [],
   "source": [
    "import numpy as np\n",
    "import pandas as pd"
   ]
  },
  {
   "cell_type": "code",
   "execution_count": null,
   "metadata": {},
   "outputs": [],
   "source": [
    "raw_influenciadores = pd.read_csv(\"https://zenodo.org/record/5799703/files/influenciadores.csv\")\n",
    "display(raw_influenciadores.head())\n",
    "\n",
    "raw_produtos = pd.read_csv(\"https://zenodo.org/record/5799703/files/produtos.csv\")\n",
    "display(raw_produtos.head())\n",
    "\n",
    "raw_comerciantes = pd.read_csv(\"https://zenodo.org/record/5799703/files/comerciantes.csv\")\n",
    "display(raw_comerciantes.head())"
   ]
  },
  {
   "cell_type": "markdown",
   "metadata": {},
   "source": [
    "## Limpeza dos dados\n",
    "\n",
    "Os dados devem ser pré-processados para removermos dados inválidos.\n",
    "\n",
    "### Influenciadores\n",
    "\n",
    "Começamos pelos influenciadores e calculamos quantas opções cada um possui na tabela"
   ]
  },
  {
   "cell_type": "code",
   "execution_count": null,
   "metadata": {},
   "outputs": [],
   "source": [
    "raw_influenciadores.columns"
   ]
  },
  {
   "cell_type": "markdown",
   "metadata": {},
   "source": [
    "Nossa tabela permite que cada influenciador liste até 25 produtos desejados, numerados de 0 a 24:"
   ]
  },
  {
   "cell_type": "code",
   "execution_count": null,
   "metadata": {},
   "outputs": [],
   "source": [
    "n_choices = 25\n",
    "choices = map(str, range(n_choices))"
   ]
  },
  {
   "cell_type": "markdown",
   "metadata": {},
   "source": [
    "Eliminamos influencaidores que não possuem produtos:"
   ]
  },
  {
   "cell_type": "code",
   "execution_count": null,
   "metadata": {},
   "outputs": [],
   "source": [
    "influenciadores = raw_influenciadores.copy()\n",
    "influenciadores = influenciadores.dropna(subset = choices, how = \"all\").reset_index(drop = True)\n",
    "\n",
    "influenciadores.head()"
   ]
  },
  {
   "cell_type": "markdown",
   "metadata": {},
   "source": [
    "Contabilizamos o que foi perdido:"
   ]
  },
  {
   "cell_type": "code",
   "execution_count": null,
   "metadata": {},
   "outputs": [],
   "source": [
    "len(raw_influenciadores) - len(influenciadores)"
   ]
  },
  {
   "cell_type": "markdown",
   "metadata": {},
   "source": [
    "### Produtos\n",
    "\n",
    "Cada produto requer um nome único e uma capacidade maior que zero. Observe que dois comerciantes podem revender a mesma marca e qualidade de um produto, mas na prática são produtos diferentes na perspectiva do influenciador (_uma coisa é representar uma marca de tênis esportivo famosa por uma loja local e outra diferente é representar a marca nacionalmente por uma rede de lojas de departamento ou mundialmente  pelo fabricante_):"
   ]
  },
  {
   "cell_type": "code",
   "execution_count": null,
   "metadata": {},
   "outputs": [],
   "source": [
    "produtos = raw_produtos.copy()\n",
    "produtos = produtos.dropna()\n",
    "produtos = produtos[produtos[\"quota\"] > 0]\n",
    "\n",
    "produtos.head()"
   ]
  },
  {
   "cell_type": "markdown",
   "metadata": {},
   "source": [
    "Contabilizar quantos produtos foram perdidos:"
   ]
  },
  {
   "cell_type": "code",
   "execution_count": null,
   "metadata": {},
   "outputs": [],
   "source": [
    "len(raw_produtos) == len(produtos)"
   ]
  },
  {
   "cell_type": "markdown",
   "metadata": {},
   "source": [
    "### Comerciantes\n",
    "\n",
    "Cada comerciante requer uma identificação única e uma capacidade diferente de zero e qualquer um que não atenda estas características é eliminado:"
   ]
  },
  {
   "cell_type": "code",
   "execution_count": null,
   "metadata": {},
   "outputs": [],
   "source": [
    "comerciantes = raw_comerciantes.copy()\n",
    "comerciantes = comerciantes.dropna()\n",
    "comerciantes = comerciantes[comerciantes[\"quota\"] > 0]\n",
    "\n",
    "comerciantes.head()"
   ]
  },
  {
   "cell_type": "markdown",
   "metadata": {},
   "source": [
    "Contabilizar quantos comerciantes perdemos:"
   ]
  },
  {
   "cell_type": "code",
   "execution_count": null,
   "metadata": {},
   "outputs": [],
   "source": [
    "len(comerciantes) == len(raw_comerciantes)"
   ]
  },
  {
   "cell_type": "markdown",
   "metadata": {},
   "source": [
    "## Criação dos dicionários de dados\n",
    "\n",
    "A API trabalha com dicionários que devem ser criados e que irão conter as seguintes relações:\n",
    "\n",
    "* Relações entre produtos e comerciantes e influenciadores\n",
    "* Capacidades por produtos de cada comerciante\n",
    "* Lista de preferências de influenciadores e comerciantes\n",
    "* Capacidades dos comerciantes\n",
    "\n",
    "### Capacidades e relações\n",
    "\n",
    "Iremos iniciar com a capacidade e relações entre produtos e comerciantes"
   ]
  },
  {
   "cell_type": "code",
   "execution_count": null,
   "metadata": {},
   "outputs": [],
   "source": [
    "comerciante_nomes = comerciantes[\"nome\"].values\n",
    "produto_codigos = produtos[\"codigo\"].values"
   ]
  },
  {
   "cell_type": "code",
   "execution_count": null,
   "metadata": {},
   "outputs": [],
   "source": [
    "produto_to_quota, produto_to_comerciante = {}, {}\n",
    "for _, (produto, quota, comerciante) in produtos.iterrows():\n",
    "    if produto in produto_codigos and comerciante in comerciante_nomes:\n",
    "        produto_to_comerciante[produto] = comerciante\n",
    "        produto_to_quota[produto] = quota"
   ]
  },
  {
   "cell_type": "markdown",
   "metadata": {},
   "source": [
    "Agora podemos criar o dicionário com a capacidade de cada comerciante. Incluimos apenas os comerciantes que possuem ao menos um produto válido:"
   ]
  },
  {
   "cell_type": "code",
   "execution_count": null,
   "metadata": {},
   "outputs": [],
   "source": [
    "comerciante_to_quota = {}\n",
    "for _, (comerciante, quota) in comerciantes.iterrows():\n",
    "    if comerciante in produto_to_comerciante.values():\n",
    "        comerciante_to_quota[comerciante] = quota"
   ]
  },
  {
   "cell_type": "markdown",
   "metadata": {},
   "source": [
    "## Listas de preferências\n",
    "\n",
    "Os dicionários remanescentes irão conter a lista de preferências dos influenciadores e comerciantes.\n",
    "\n",
    "Iniciando pelo influenciadores, estes devem possuir uma lista de produtos válidos.\n",
    "\n",
    "> _Caso de mais de um influenciador listar o mesmo produto, iremos utilizar o atributo **rank** para dar preferência para o que estiver mais alto na qualificação_."
   ]
  },
  {
   "cell_type": "code",
   "execution_count": null,
   "metadata": {},
   "outputs": [],
   "source": [
    "influenciador_prefs = {}\n",
    "for _, (influenciador, _, *prefs) in influenciadores.iterrows():\n",
    "    influenciador_preferences = []\n",
    "    for produto in prefs:\n",
    "        if produto in produto_codigos and produto not in influenciador_preferences:\n",
    "            influenciador_preferences.append(produto)\n",
    "\n",
    "    if influenciador_preferences:\n",
    "        influenciador_prefs[influenciador] = influenciador_preferences"
   ]
  },
  {
   "cell_type": "code",
   "execution_count": null,
   "metadata": {},
   "outputs": [],
   "source": [
    "sorted_influenciadores = influenciadores.sort_values(\"rank\", ascending = True)[\"nome\"].values"
   ]
  },
  {
   "cell_type": "markdown",
   "metadata": {},
   "source": [
    "> Se um influenciador listou vários produtos do mesmo comerciante, ele somente será listado uma vez para aquele comerciante."
   ]
  },
  {
   "cell_type": "code",
   "execution_count": null,
   "metadata": {},
   "outputs": [],
   "source": [
    "comerciante_prefs = {}\n",
    "for comerciante in comerciante_nomes:\n",
    "\n",
    "    comerciante_preferences = []\n",
    "    comerciante_produtos = [\n",
    "        p for p, s in produto_to_comerciante.items() if s == comerciante\n",
    "    ]\n",
    "\n",
    "    for influenciador in sorted_influenciadores:\n",
    "        influenciador_preferences = influenciador_prefs[influenciador]\n",
    "        if set(influenciador_preferences).intersection(comerciante_produtos):\n",
    "            comerciante_preferences.append(influenciador)\n",
    "\n",
    "    if comerciante_preferences:\n",
    "        comerciante_prefs[comerciante] = comerciante_preferences"
   ]
  },
  {
   "cell_type": "markdown",
   "metadata": {},
   "source": [
    "## Limpeza final\n",
    "\n",
    "### Removendo influenciadores extras\n",
    "\n",
    "Devemos rever as preferências dos comerciantes para remover qualquer um que ficou com sua lista vazia. Do mesmo modo da lista de produtos os que não possuem influenciadores interessados devem ser removidos. "
   ]
  },
  {
   "cell_type": "code",
   "execution_count": null,
   "metadata": {},
   "outputs": [],
   "source": [
    "unranked_comerciantes = set(comerciante_nomes).difference(\n",
    "    comerciante_prefs.keys()\n",
    ")\n",
    "\n",
    "\n",
    "unranked_produtos = set(produto_codigos).difference(\n",
    "    (produto for prefs in influenciador_prefs.values() for produto in prefs)\n",
    ")\n",
    "\n",
    "unranked_comerciantes, unranked_produtos"
   ]
  },
  {
   "cell_type": "code",
   "execution_count": null,
   "metadata": {},
   "outputs": [],
   "source": [
    "for comerciante in unranked_comerciantes:\n",
    "    del comerciante_to_quota[comerciante]\n",
    "\n",
    "for produto in unranked_produtos:\n",
    "    del produto_to_quota[produto]\n",
    "    del produto_to_comerciante[produto]"
   ]
  },
  {
   "cell_type": "markdown",
   "metadata": {},
   "source": [
    "### Verificando e ajustando as capacidades\n",
    "\n",
    "O passo final será ajustar as capacidades:\n",
    "\n",
    "1. Cada produto não deve suportar mais influenciadores que o próprio comerciante suporta;\n",
    "2. A capacidade de cada comerciante deve:\n",
    "    * Tão grande quanto a maior capacidade da lista de seus produtos; e\n",
    "    * Não deve ser maior que a soma das capacidades de seus produtos.\n",
    "\n",
    "Começamos reduzindo as capacidades muito grandes dos produtos:"
   ]
  },
  {
   "cell_type": "code",
   "execution_count": null,
   "metadata": {},
   "outputs": [],
   "source": [
    "for produto, produto_quota in produto_to_quota.items():\n",
    "    comerciante = produto_to_comerciante[produto]\n",
    "    comerciante_quota = comerciante_to_quota[comerciante]\n",
    "\n",
    "    if produto_quota > comerciante_quota:\n",
    "        print(\n",
    "            f\"produto {produto} possui {produto_quota} espaço(s) para influenciador(es) porém o comerciante\",\n",
    "            f\"{comerciante} possui somente {comerciante_quota} espaço(s).\",\n",
    "        )\n",
    "        produto_to_quota[produto] = comerciante_quota"
   ]
  },
  {
   "cell_type": "markdown",
   "metadata": {},
   "source": [
    "Agora certificamos que nenhum comerciante possui mais espaços disponíveis do que ele oferece em seus produtos:"
   ]
  },
  {
   "cell_type": "code",
   "execution_count": null,
   "metadata": {},
   "outputs": [],
   "source": [
    "for comerciante, comerciante_quota in comerciante_to_quota.items():\n",
    "\n",
    "    comerciante_produtos = [\n",
    "        p for p, s in produto_to_comerciante.items() if s == comerciante\n",
    "    ]\n",
    "    comerciante_produto_capacities = [\n",
    "        produto_to_quota[produto] for produto in comerciante_produtos\n",
    "    ]\n",
    "\n",
    "    if comerciante_quota > sum(comerciante_produto_capacities):\n",
    "        print(\n",
    "            f\"o comerciante {comerciante} possui {comerciante_quota} espaço(s) porém seus produtos\",\n",
    "            f\"({', '.join(comerciante_produtos)}) possuem um total de\",\n",
    "            f\"{sum(comerciante_produto_capacities)} espaços.\",\n",
    "        )\n",
    "        comerciante_to_quota[comerciante] = sum(comerciante_produto_capacities)"
   ]
  },
  {
   "cell_type": "markdown",
   "metadata": {},
   "source": [
    "## Executando o algoritmo\n",
    "\n",
    "Agora que as estruturas de dados estão prontas utilizamos os dicionários construídos para gerar as recomendações. A recomendação poderá ser otimizada por influenciador ou por comerciante. Faremos por influenciador."
   ]
  },
  {
   "cell_type": "code",
   "execution_count": null,
   "metadata": {},
   "outputs": [],
   "source": [
    "import pprint\n",
    "\n",
    "# pprint.pprint(influenciador_prefs)\n",
    "# pprint.pprint(comerciante_prefs)\n",
    "# pprint.pprint(produto_to_comerciante)\n",
    "# pprint.pprint(produto_to_quota)\n",
    "# pprint.pprint(comerciante_to_quota)\n",
    "\n",
    "game = PlayerAllocation.create_from_dictionaries(\n",
    "    influenciador_prefs,\n",
    "    comerciante_prefs,\n",
    "    produto_to_comerciante,\n",
    "    produto_to_quota,\n",
    "    comerciante_to_quota,\n",
    ")\n",
    "\n",
    "matching = game.solve(optimal = \"player\") # game.solve(optimal = \"container\")\n",
    "assert game.check_validity()\n",
    "assert game.check_stability()"
   ]
  },
  {
   "cell_type": "code",
   "execution_count": null,
   "metadata": {},
   "outputs": [],
   "source": [
    "matching"
   ]
  },
  {
   "cell_type": "markdown",
   "metadata": {},
   "source": [
    "## Análise\n",
    "\n",
    "O resultado obtido não é trivial de ser lido e portanto utilizaremos visualizações para facilitar a interpretação"
   ]
  },
  {
   "cell_type": "code",
   "execution_count": null,
   "metadata": {
    "tags": [
     "nbval-ignore-output"
    ]
   },
   "outputs": [],
   "source": [
    "from collections import Counter, defaultdict\n",
    "import matplotlib.pyplot as plt\n",
    "\n",
    "plt.style.use(\"seaborn-colorblind\")\n",
    "%matplotlib inline"
   ]
  },
  {
   "cell_type": "markdown",
   "metadata": {},
   "source": [
    "### Comerciantes\n",
    "\n",
    "Apresentamos a utilização dos comerciantes:"
   ]
  },
  {
   "cell_type": "code",
   "execution_count": null,
   "metadata": {},
   "outputs": [],
   "source": [
    "comerciante_free_spaces = {\n",
    "    comerciante: comerciante.capacity - len(comerciante.matching)\n",
    "    for comerciante in game.containers\n",
    "}\n",
    "\n",
    "comerciante_utilisation = {\n",
    "    comerciante: len(comerciante.matching) / comerciante.capacity\n",
    "    for comerciante in game.containers\n",
    "}"
   ]
  },
  {
   "cell_type": "code",
   "execution_count": null,
   "metadata": {
    "tags": [
     "nbval-ignore-output"
    ]
   },
   "outputs": [],
   "source": [
    "fig, ax = plt.subplots(figsize = (14, 7), dpi = 300)\n",
    "\n",
    "data = Counter(comerciante_free_spaces.values())\n",
    "ax.bar(data.keys(), data.values())\n",
    "\n",
    "ax.set_xlabel(\"Num. espaços livres\")\n",
    "ax.set_ylabel(\"Frequência\")\n",
    "ax.set_xticks(range(max(data.keys()) + 1))\n",
    "ax.set_title(\"Comerciante - Espaços Livres\")"
   ]
  },
  {
   "cell_type": "code",
   "execution_count": null,
   "metadata": {
    "tags": [
     "nbval-ignore-output"
    ]
   },
   "outputs": [],
   "source": [
    "fig, ax = plt.subplots(figsize = (14, 7), dpi = 300)\n",
    "\n",
    "values = comerciante_utilisation.values()\n",
    "ax.hist(values)\n",
    "\n",
    "ylims = ax.get_ylim()\n",
    "ax.vlines(np.mean(list(values)), *ylims, \"tab:orange\", \"dashed\", label = \"Média\", lw = 3)\n",
    "ax.set_ylim(*ylims)\n",
    "\n",
    "ax.set_xlabel(\"Utilização\")\n",
    "ax.set_ylabel(\"Frequência\")\n",
    "ax.set_title(\"Utilização do Comerciante\")\n",
    "ax.legend()"
   ]
  },
  {
   "cell_type": "markdown",
   "metadata": {},
   "source": [
    "Podemos observar que os comerciantes aproveitaram quase que totalmente sua capacidade de alocar influenciadores.\n",
    "\n",
    "### Produtos\n",
    "\n",
    "A mesma visualização aplicada aos produtos:"
   ]
  },
  {
   "cell_type": "code",
   "execution_count": null,
   "metadata": {},
   "outputs": [],
   "source": [
    "produto_free_spaces = {\n",
    "    resource.name: resource.capacity - len(resource.matching) for resource in game.resources\n",
    "}\n",
    "\n",
    "produto_utilisation = {\n",
    "    resource.name: len(resource.matching) / resource.capacity for resource in game.resources\n",
    "}"
   ]
  },
  {
   "cell_type": "code",
   "execution_count": null,
   "metadata": {
    "tags": [
     "nbval-ignore-output"
    ]
   },
   "outputs": [],
   "source": [
    "fig, ax = plt.subplots(figsize = (14, 7), dpi = 300)\n",
    "\n",
    "data = Counter(produto_free_spaces.values())\n",
    "ax.bar(data.keys(), data.values())\n",
    "\n",
    "ax.set_xlabel(\"Espaços Livres\")\n",
    "ax.set_ylabel(\"Frequência\")\n",
    "ax.set_xticks(range(max(data.keys()) + 1))\n",
    "ax.set_title(\"Espaços Livres de Produtos\")"
   ]
  },
  {
   "cell_type": "code",
   "execution_count": null,
   "metadata": {
    "tags": [
     "nbval-ignore-output"
    ]
   },
   "outputs": [],
   "source": [
    "fig, ax = plt.subplots(figsize = (14, 7), dpi = 300)\n",
    "\n",
    "values = produto_utilisation.values()\n",
    "ax.hist(values)\n",
    "\n",
    "ylims = ax.get_ylim()\n",
    "ax.vlines(np.mean(list(values)), *ylims, \"tab:orange\", \"dashed\", label = \"Média\", lw = 3)\n",
    "ax.vlines(np.median(list(values)), *ylims, \"tab:green\", \"dashed\", label = \"Mediana\", lw = 3)\n",
    "ax.set_ylim(*ylims)\n",
    "\n",
    "ax.set_xlabel(\"Utilização\")\n",
    "ax.set_ylabel(\"Frequência\")\n",
    "ax.set_title(\"Utilização do Produto\")\n",
    "ax.legend()"
   ]
  },
  {
   "cell_type": "markdown",
   "metadata": {},
   "source": [
    "A maioria dos produtos foi repartida entre dois grupos:\n",
    "\n",
    "1. Os muito populares\n",
    "2. Os muito impopulares\n",
    "\n",
    "Resultados como estes indicam quais produtos devem ser eliminados do mix ou necessitam mais campanhas de divulgação.\n",
    "\n",
    "### Influenciadores\n",
    "\n",
    "Neste exemplo a análise mais valiosa é a dos influenciadores. Para isto vamos inverter o pareamento gerado pelo algoritmo:"
   ]
  },
  {
   "cell_type": "code",
   "execution_count": null,
   "metadata": {},
   "outputs": [],
   "source": [
    "inverted_matching = {}\n",
    "influenciador_preference_of_matching = []\n",
    "for produto, produto_influenciadores in matching.items():\n",
    "    for influenciador in produto_influenciadores:\n",
    "        inverted_matching[influenciador.name] = produto.name\n",
    "        influenciador_preference_of_matching.append(influenciador._pref_names.index(produto.name))"
   ]
  },
  {
   "cell_type": "markdown",
   "metadata": {},
   "source": [
    "Assim poderemos criar relacionamentos entre os dados de influenciadores pareados e os dados originais e extrair os que não foram pareados:"
   ]
  },
  {
   "cell_type": "code",
   "execution_count": null,
   "metadata": {},
   "outputs": [],
   "source": [
    "df_matching = pd.DataFrame(\n",
    "    {\n",
    "        \"nome\": list(inverted_matching.keys()),\n",
    "        \"produto_codigo\": list(inverted_matching.values()),\n",
    "        \"preference\": influenciador_preference_of_matching,\n",
    "    }\n",
    ")\n",
    "\n",
    "df_matching = df_matching.sort_values(by = \"nome\").reset_index(drop = True)\n",
    "\n",
    "nome_indexed_df_matching = df_matching.set_index(\"nome\")\n",
    "nome_indexed_raw_influenciadores = raw_influenciadores.set_index(\"nome\")\n",
    "\n",
    "df_matching = pd.concat(\n",
    "    (nome_indexed_df_matching, nome_indexed_raw_influenciadores[\"rank\"]), axis = 1\n",
    ").reset_index()"
   ]
  },
  {
   "cell_type": "code",
   "execution_count": null,
   "metadata": {},
   "outputs": [],
   "source": [
    "unassigned_influenciadores = df_matching[df_matching[\"preference\"].isnull()]\n",
    "\n",
    "unassigned_influenciadores"
   ]
  },
  {
   "cell_type": "code",
   "execution_count": null,
   "metadata": {},
   "outputs": [],
   "source": [
    "assigned_influenciadores = df_matching[df_matching[\"preference\"].notnull()]\n",
    "assigned_influenciadores = assigned_influenciadores.astype({\"preference\": int})\n",
    "assigned_influenciadores.head()"
   ]
  },
  {
   "cell_type": "markdown",
   "metadata": {},
   "source": [
    "Baixo um gráfico mostrando a frequência da preferência do influenciador sobre seu pareamento:"
   ]
  },
  {
   "cell_type": "code",
   "execution_count": null,
   "metadata": {
    "tags": [
     "nbval-ignore-output"
    ]
   },
   "outputs": [],
   "source": [
    "fig, ax = plt.subplots(figsize = (14, 7), dpi = 300)\n",
    "\n",
    "values = Counter(assigned_influenciadores[\"preference\"])\n",
    "ax.bar(values.keys(), values.values())\n",
    "ax.bar(-2, len(unassigned_influenciadores))\n",
    "\n",
    "ax.set_xticks([-2] + list(range(0, 10, 2)))\n",
    "ax.set_xticklabels([\"NaN\"] + list(range(0, 10, 2)))\n",
    "ax.set_xlabel(\"Preferência\")\n",
    "ax.set_ylabel(\"Frequência\")\n",
    "ax.set_title(\"Preferências do Influenciador\")"
   ]
  },
  {
   "cell_type": "markdown",
   "metadata": {},
   "source": [
    "Podemos observar que a maioria dos influenciadores obteve sua primeira ou segunda opção.\n",
    "\n",
    "Outra consideração importante é o quão apropriado o _**ranking**_ é. Idealmente o influenciador que está classificado entre os melhores deve obter as suas primeiras opções e conforme a qualificação desce do mesmo modo suas preferências também devem descer."
   ]
  },
  {
   "cell_type": "code",
   "execution_count": null,
   "metadata": {
    "tags": [
     "nbval-ignore-output"
    ]
   },
   "outputs": [],
   "source": [
    "fig, ax = plt.subplots(figsize = (14, 7), dpi = 300)\n",
    "\n",
    "ax.scatter(\n",
    "    assigned_influenciadores[\"rank\"],\n",
    "    assigned_influenciadores[\"preference\"],\n",
    "    marker = \".\",\n",
    "    label = \"Influenciadores pareados\",\n",
    ")\n",
    "\n",
    "ax.scatter(\n",
    "    unassigned_influenciadores[\"rank\"],\n",
    "    [-0.5] * len(unassigned_influenciadores),\n",
    "    marker = \"|\",\n",
    "    lw = 3,\n",
    "    label = \"Influenciadores não pareados\",\n",
    ")\n",
    "\n",
    "ax.set_xlabel(\"Rank do Influenciador\")\n",
    "ax.set_ylabel(\"Preferencia de Pareamento\")\n",
    "ax.set_title(\"Rank do Influenciador X Preferência de Pareamento\")\n",
    "ax.legend()"
   ]
  },
  {
   "cell_type": "markdown",
   "metadata": {},
   "source": [
    "## Observando vagas remanescentes\n",
    "\n",
    "Ajustes podem (mas não devem) ser feitos na alocação. Uma possibilidade é oferecer produtos com espaços vagos para influenciadores que não receberam ofertas:"
   ]
  },
  {
   "cell_type": "code",
   "execution_count": null,
   "metadata": {},
   "outputs": [],
   "source": [
    "import warnings\n",
    "\n",
    "warnings.filterwarnings(\"ignore\")"
   ]
  },
  {
   "cell_type": "code",
   "execution_count": null,
   "metadata": {},
   "outputs": [],
   "source": [
    "produto_com_vagas_nomes = [\n",
    "    produto.name\n",
    "    for produto in game.resources\n",
    "    if len(produto.matching) < produto.capacity\n",
    "] + list(unranked_produtos)\n",
    "\n",
    "comerciante_com_vagas_nomes = [\n",
    "    comerciante.name\n",
    "    for comerciante in game.containers\n",
    "    if len(comerciante.matching) < comerciante.capacity\n",
    "] + list(unranked_comerciantes)"
   ]
  },
  {
   "cell_type": "code",
   "execution_count": null,
   "metadata": {},
   "outputs": [],
   "source": [
    "def get_number_of_pareamentos(nome, party, game):\n",
    "\n",
    "    for player in vars(game)[party]:\n",
    "        if player.name == nome:\n",
    "            return len(player.matching)\n",
    "\n",
    "    return 0\n",
    "\n",
    "\n",
    "def get_quota(data, party, nome):\n",
    "\n",
    "    if party == \"produto\":\n",
    "        column = \"codigo\"\n",
    "    else:\n",
    "        column = \"nome\"\n",
    "\n",
    "    return data[data[column] == nome][\"quota\"].iloc[0]"
   ]
  },
  {
   "cell_type": "code",
   "execution_count": null,
   "metadata": {},
   "outputs": [],
   "source": [
    "produtos_com_vagas = produtos[\n",
    "    (produtos[\"codigo\"].isin(produto_com_vagas_nomes))\n",
    "    & (produtos[\"comerciante\"].isin(comerciante_com_vagas_nomes))\n",
    "]"
   ]
  },
  {
   "cell_type": "code",
   "execution_count": null,
   "metadata": {},
   "outputs": [],
   "source": [
    "produtos_com_vagas[\"comerciante_quota\"] = produtos_com_vagas[\"comerciante\"].apply(\n",
    "    lambda x: get_quota(comerciantes, \"comerciante\", x)\n",
    ")\n",
    "\n",
    "produtos_com_vagas[\"produto_pareamentos\"] = produtos_com_vagas[\"codigo\"].apply(\n",
    "    lambda x: get_number_of_pareamentos(x, \"resources\", game)\n",
    ")\n",
    "\n",
    "produtos_com_vagas[\"comerciante_pareamentos\"] = produtos_com_vagas[\"comerciante\"].apply(\n",
    "    lambda x: get_number_of_pareamentos(x, \"containers\", game)\n",
    ")\n",
    "\n",
    "produtos_com_vagas = produtos_com_vagas[\n",
    "    [\n",
    "        \"codigo\",\n",
    "        \"quota\",\n",
    "        \"produto_pareamentos\",\n",
    "        \"comerciante\",\n",
    "        \"comerciante_quota\",\n",
    "        \"comerciante_pareamentos\",\n",
    "    ]\n",
    "]"
   ]
  },
  {
   "cell_type": "code",
   "execution_count": null,
   "metadata": {},
   "outputs": [],
   "source": [
    "produtos_com_vagas = produtos_com_vagas.set_index([\"comerciante\", \"codigo\"]).sort_index()\n",
    "\n",
    "produtos_com_vagas"
   ]
  },
  {
   "cell_type": "markdown",
   "metadata": {},
   "source": [
    "> Fim"
   ]
  }
 ],
 "metadata": {
  "celltoolbar": "Tags",
  "kernelspec": {
   "display_name": "Python 3.8.2 64-bit ('.pyenv': pyenv)",
   "language": "python",
   "name": "python38264bitpyenvpyenvbf7f6cacc0544a7a90f356ec07839400"
  },
  "language_info": {
   "codemirror_mode": {
    "name": "ipython",
    "version": 3
   },
   "file_extension": ".py",
   "mimetype": "text/x-python",
   "name": "python",
   "nbconvert_exporter": "python",
   "pygments_lexer": "ipython3",
   "version": "3.8.2"
  }
 },
 "nbformat": 4,
 "nbformat_minor": 4
}
