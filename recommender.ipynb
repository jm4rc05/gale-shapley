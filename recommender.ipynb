{
 "cells": [
  {
   "cell_type": "markdown",
   "metadata": {},
   "source": [
    "# Aplicação do algoritmo de _Gale-Shapley_ para recomendações de **Influenciadores, Anúncios e Comerciantes**\n",
    "\n",
    "Neste exemplo iremos resolver o problema de gerar recomendações de Influenciadores para Comerciantes de Anúncios utilizando dados tabulares, cobrindo aspectos de manipulação dos dados e interpretação dos resultados."
   ]
  },
  {
   "cell_type": "code",
   "execution_count": null,
   "metadata": {},
   "outputs": [],
   "source": [
    "# Hack para instalar a lib\n",
    "import sys\n",
    "!{sys.executable} -m pip install galeshapley --upgrade"
   ]
  },
  {
   "cell_type": "code",
   "execution_count": null,
   "metadata": {},
   "outputs": [],
   "source": [
    "from galeshapley.games import PlayerAllocation"
   ]
  },
  {
   "cell_type": "code",
   "execution_count": null,
   "metadata": {},
   "outputs": [],
   "source": [
    "import numpy as np\n",
    "import pandas as pd"
   ]
  },
  {
   "cell_type": "code",
   "execution_count": null,
   "metadata": {},
   "outputs": [],
   "source": [
    "raw_influenciadores = pd.read_csv(\"https://zenodo.org/record/5799703/files/influenciadores.csv\")\n",
    "display(raw_influenciadores.head())\n",
    "\n",
    "# (\"./data/produtos.csv\")\n",
    "raw_anuncios = pd.read_csv(\"https://zenodo.org/record/5799703/files/produtos.csv\")\n",
    "display(raw_anuncios.head())\n",
    "\n",
    "raw_comerciantes = pd.read_csv(\"https://zenodo.org/record/5799703/files/comerciantes.csv\")\n",
    "display(raw_comerciantes.head())"
   ]
  },
  {
   "cell_type": "markdown",
   "metadata": {},
   "source": [
    "## Limpeza dos dados\n",
    "\n",
    "Os dados devem ser pré-processados para removermos dados inválidos.\n",
    "\n",
    "### Influenciadores\n",
    "\n",
    "Começamos pelos influenciadores e calculamos quantas opções cada um possui na tabela"
   ]
  },
  {
   "cell_type": "code",
   "execution_count": null,
   "metadata": {},
   "outputs": [],
   "source": [
    "raw_influenciadores.columns"
   ]
  },
  {
   "cell_type": "markdown",
   "metadata": {},
   "source": [
    "Nossa tabela permite que cada influenciador liste até 25 anuncios desejados, numerados de 0 a 24:"
   ]
  },
  {
   "cell_type": "code",
   "execution_count": null,
   "metadata": {},
   "outputs": [],
   "source": [
    "n_choices = 25\n",
    "choices = map(str, range(n_choices))"
   ]
  },
  {
   "cell_type": "markdown",
   "metadata": {},
   "source": [
    "Eliminamos influencaidores que não possuem anuncios:"
   ]
  },
  {
   "cell_type": "code",
   "execution_count": null,
   "metadata": {},
   "outputs": [],
   "source": [
    "influenciadores = raw_influenciadores.copy()\n",
    "influenciadores = influenciadores.dropna(subset = choices, how = \"all\").reset_index(drop = True)\n",
    "\n",
    "influenciadores.head()"
   ]
  },
  {
   "cell_type": "markdown",
   "metadata": {},
   "source": [
    "Contabilizamos o que foi perdido:"
   ]
  },
  {
   "cell_type": "code",
   "execution_count": null,
   "metadata": {},
   "outputs": [],
   "source": [
    "len(raw_influenciadores) - len(influenciadores)"
   ]
  },
  {
   "cell_type": "markdown",
   "metadata": {},
   "source": [
    "### Anúncios\n",
    "\n",
    "Cada anúncio requer um nome único e uma capacidade maior que zero. Observe que dois comerciantes podem revender a mesma marca e qualidade de um anúncio, mas na prática são anúncios diferentes na perspectiva do influenciador (_uma coisa é representar uma marca de tênis esportivo famosa por uma loja local e outra diferente é representar a marca nacionalmente por uma rede de lojas de departamento ou mundialmente  pelo fabricante_):"
   ]
  },
  {
   "cell_type": "code",
   "execution_count": null,
   "metadata": {},
   "outputs": [],
   "source": [
    "anuncios = raw_anuncios.copy()\n",
    "anuncios = anuncios.dropna()\n",
    "anuncios = anuncios[anuncios[\"quota\"] > 0]\n",
    "\n",
    "anuncios.head()"
   ]
  },
  {
   "cell_type": "markdown",
   "metadata": {},
   "source": [
    "Contabilizar quantos anúncios foram perdidos:"
   ]
  },
  {
   "cell_type": "code",
   "execution_count": null,
   "metadata": {},
   "outputs": [],
   "source": [
    "len(raw_anuncios) == len(anuncios)"
   ]
  },
  {
   "cell_type": "markdown",
   "metadata": {},
   "source": [
    "### Comerciantes\n",
    "\n",
    "Cada comerciante requer uma identificação única e uma capacidade diferente de zero e qualquer um que não atenda estas características é eliminado:"
   ]
  },
  {
   "cell_type": "code",
   "execution_count": null,
   "metadata": {},
   "outputs": [],
   "source": [
    "comerciantes = raw_comerciantes.copy()\n",
    "comerciantes = comerciantes.dropna()\n",
    "comerciantes = comerciantes[comerciantes[\"quota\"] > 0]\n",
    "\n",
    "comerciantes.head()"
   ]
  },
  {
   "cell_type": "markdown",
   "metadata": {},
   "source": [
    "Contabilizar quantos comerciantes perdemos:"
   ]
  },
  {
   "cell_type": "code",
   "execution_count": null,
   "metadata": {},
   "outputs": [],
   "source": [
    "len(comerciantes) == len(raw_comerciantes)"
   ]
  },
  {
   "cell_type": "markdown",
   "metadata": {},
   "source": [
    "## Criação dos dicionários de dados\n",
    "\n",
    "A API trabalha com dicionários que devem ser criados e que irão conter as seguintes relações:\n",
    "\n",
    "* Relações entre anúncios e comerciantes e influenciadores\n",
    "* Capacidades por anúncios de cada comerciante\n",
    "* Lista de preferências de influenciadores e comerciantes\n",
    "* Capacidades dos comerciantes\n",
    "\n",
    "### Capacidades e relações\n",
    "\n",
    "Iremos iniciar com a capacidade e relações entre anúncios e comerciantes"
   ]
  },
  {
   "cell_type": "code",
   "execution_count": null,
   "metadata": {},
   "outputs": [],
   "source": [
    "comerciante_nomes = comerciantes[\"nome\"].values\n",
    "anuncio_codigos = anuncios[\"codigo\"].values"
   ]
  },
  {
   "cell_type": "code",
   "execution_count": null,
   "metadata": {},
   "outputs": [],
   "source": [
    "anuncio_to_quota, anuncio_to_comerciante = {}, {}\n",
    "for _, (anuncio, quota, comerciante) in anuncios.iterrows():\n",
    "    if anuncio in anuncio_codigos and comerciante in comerciante_nomes:\n",
    "        anuncio_to_comerciante[anuncio] = comerciante\n",
    "        anuncio_to_quota[anuncio] = quota"
   ]
  },
  {
   "cell_type": "markdown",
   "metadata": {},
   "source": [
    "Agora podemos criar o dicionário com a capacidade de cada comerciante. Incluimos apenas os comerciantes que possuem ao menos um anúncio válido:"
   ]
  },
  {
   "cell_type": "code",
   "execution_count": null,
   "metadata": {},
   "outputs": [],
   "source": [
    "comerciante_to_quota = {}\n",
    "for _, (comerciante, quota) in comerciantes.iterrows():\n",
    "    if comerciante in anuncio_to_comerciante.values():\n",
    "        comerciante_to_quota[comerciante] = quota"
   ]
  },
  {
   "cell_type": "markdown",
   "metadata": {},
   "source": [
    "## Listas de preferências\n",
    "\n",
    "Os dicionários remanescentes irão conter a lista de preferências dos influenciadores e comerciantes.\n",
    "\n",
    "Iniciando pelo influenciadores, estes devem possuir uma lista de anúncios válidos.\n",
    "\n",
    "> _Caso de mais de um influenciador listar o mesmo anúncio, iremos utilizar o atributo **rank** para dar preferência para o que estiver mais alto na qualificação_."
   ]
  },
  {
   "cell_type": "code",
   "execution_count": null,
   "metadata": {},
   "outputs": [],
   "source": [
    "influenciador_prefs = {}\n",
    "for _, (influenciador, _, *prefs) in influenciadores.iterrows():\n",
    "    influenciador_preferences = []\n",
    "    for anuncio in prefs:\n",
    "        if anuncio in anuncio_codigos and anuncio not in influenciador_preferences:\n",
    "            influenciador_preferences.append(anuncio)\n",
    "\n",
    "    if influenciador_preferences:\n",
    "        influenciador_prefs[influenciador] = influenciador_preferences"
   ]
  },
  {
   "cell_type": "code",
   "execution_count": null,
   "metadata": {},
   "outputs": [],
   "source": [
    "sorted_influenciadores = influenciadores.sort_values(\"rank\", ascending = True)[\"nome\"].values"
   ]
  },
  {
   "cell_type": "markdown",
   "metadata": {},
   "source": [
    "> Se um influenciador listou vários anúncios do mesmo comerciante, ele somente será listado uma vez para aquele comerciante."
   ]
  },
  {
   "cell_type": "code",
   "execution_count": null,
   "metadata": {},
   "outputs": [],
   "source": [
    "comerciante_prefs = {}\n",
    "for comerciante in comerciante_nomes:\n",
    "\n",
    "    comerciante_preferences = []\n",
    "    comerciante_anuncios = [\n",
    "        p for p, s in anuncio_to_comerciante.items() if s == comerciante\n",
    "    ]\n",
    "\n",
    "    for influenciador in sorted_influenciadores:\n",
    "        influenciador_preferences = influenciador_prefs[influenciador]\n",
    "        if set(influenciador_preferences).intersection(comerciante_anuncios):\n",
    "            comerciante_preferences.append(influenciador)\n",
    "\n",
    "    if comerciante_preferences:\n",
    "        comerciante_prefs[comerciante] = comerciante_preferences"
   ]
  },
  {
   "cell_type": "markdown",
   "metadata": {},
   "source": [
    "## Limpeza final\n",
    "\n",
    "### Removendo influenciadores extras\n",
    "\n",
    "Devemos rever as preferências dos comerciantes para remover qualquer um que ficou com sua lista vazia. Do mesmo modo da lista de anúncios os que não possuem influenciadores interessados devem ser removidos. "
   ]
  },
  {
   "cell_type": "code",
   "execution_count": null,
   "metadata": {},
   "outputs": [],
   "source": [
    "unranked_comerciantes = set(comerciante_nomes).difference(\n",
    "    comerciante_prefs.keys()\n",
    ")\n",
    "\n",
    "\n",
    "unranked_anuncios = set(anuncio_codigos).difference(\n",
    "    (anuncio for prefs in influenciador_prefs.values() for anuncio in prefs)\n",
    ")\n",
    "\n",
    "unranked_comerciantes, unranked_anuncios"
   ]
  },
  {
   "cell_type": "code",
   "execution_count": null,
   "metadata": {},
   "outputs": [],
   "source": [
    "for comerciante in unranked_comerciantes:\n",
    "    del comerciante_to_quota[comerciante]\n",
    "\n",
    "for anuncio in unranked_anuncios:\n",
    "    del anuncio_to_quota[anuncio]\n",
    "    del anuncio_to_comerciante[anuncio]"
   ]
  },
  {
   "cell_type": "markdown",
   "metadata": {},
   "source": [
    "### Verificando e ajustando as capacidades\n",
    "\n",
    "O passo final será ajustar as capacidades:\n",
    "\n",
    "1. Cada anúncio não deve suportar mais influenciadores que o próprio comerciante suporta;\n",
    "2. A capacidade de cada comerciante deve:\n",
    "    * Tão grande quanto a maior capacidade da lista de seus anúncios; e\n",
    "    * Não deve ser maior que a soma das capacidades de seus anúncios.\n",
    "\n",
    "Começamos reduzindo as capacidades muito grandes dos anúncios:"
   ]
  },
  {
   "cell_type": "code",
   "execution_count": null,
   "metadata": {},
   "outputs": [],
   "source": [
    "for anuncio, anuncio_quota in anuncio_to_quota.items():\n",
    "    comerciante = anuncio_to_comerciante[anuncio]\n",
    "    comerciante_quota = comerciante_to_quota[comerciante]\n",
    "\n",
    "    if anuncio_quota > comerciante_quota:\n",
    "        print(\n",
    "            f\"anúncio {anuncio} possui {anuncio_quota} espaço(s) para influenciador(es) porém o comerciante\",\n",
    "            f\"{comerciante} possui somente {comerciante_quota} espaço(s).\",\n",
    "        )\n",
    "        anuncio_to_quota[anuncio] = comerciante_quota"
   ]
  },
  {
   "cell_type": "markdown",
   "metadata": {},
   "source": [
    "Agora certificamos que nenhum comerciante possui mais espaços disponíveis do que ele oferece em seus anúncios:"
   ]
  },
  {
   "cell_type": "code",
   "execution_count": null,
   "metadata": {},
   "outputs": [],
   "source": [
    "for comerciante, comerciante_quota in comerciante_to_quota.items():\n",
    "\n",
    "    comerciante_anuncios = [\n",
    "        p for p, s in anuncio_to_comerciante.items() if s == comerciante\n",
    "    ]\n",
    "    comerciante_anuncio_capacities = [\n",
    "        anuncio_to_quota[anuncio] for anuncio in comerciante_anuncios\n",
    "    ]\n",
    "\n",
    "    if comerciante_quota > sum(comerciante_anuncio_capacities):\n",
    "        print(\n",
    "            f\"o comerciante {comerciante} possui {comerciante_quota} espaço(s) porém seus anúncios\",\n",
    "            f\"({', '.join(comerciante_anuncios)}) possuem um total de\",\n",
    "            f\"{sum(comerciante_anuncio_capacities)} espaços.\",\n",
    "        )\n",
    "        comerciante_to_quota[comerciante] = sum(comerciante_anuncio_capacities)"
   ]
  },
  {
   "cell_type": "markdown",
   "metadata": {},
   "source": [
    "## Executando o algoritmo\n",
    "\n",
    "Agora que as estruturas de dados estão prontas utilizamos os dicionários construídos para gerar as recomendações. A recomendação poderá ser otimizada por influenciador ou por comerciante. Faremos por influenciador."
   ]
  },
  {
   "cell_type": "code",
   "execution_count": null,
   "metadata": {},
   "outputs": [],
   "source": [
    "import pprint\n",
    "\n",
    "# pprint.pprint(influenciador_prefs)\n",
    "# pprint.pprint(comerciante_prefs)\n",
    "# pprint.pprint(anuncio_to_comerciante)\n",
    "# pprint.pprint(anuncio_to_quota)\n",
    "# pprint.pprint(comerciante_to_quota)\n",
    "\n",
    "game = PlayerAllocation.create_from_dictionaries(\n",
    "    influenciador_prefs,\n",
    "    comerciante_prefs,\n",
    "    anuncio_to_comerciante,\n",
    "    anuncio_to_quota,\n",
    "    comerciante_to_quota,\n",
    ")\n",
    "\n",
    "matching = game.solve(optimal = \"player\") # game.solve(optimal = \"container\")\n",
    "assert game.check_validity()\n",
    "assert game.check_stability()"
   ]
  },
  {
   "cell_type": "code",
   "execution_count": null,
   "metadata": {},
   "outputs": [],
   "source": [
    "matching"
   ]
  },
  {
   "cell_type": "markdown",
   "metadata": {},
   "source": [
    "## Análise\n",
    "\n",
    "O resultado obtido não é trivial de ser lido e portanto utilizaremos visualizações para facilitar a interpretação"
   ]
  },
  {
   "cell_type": "code",
   "execution_count": null,
   "metadata": {
    "tags": [
     "nbval-ignore-output"
    ]
   },
   "outputs": [],
   "source": [
    "from collections import Counter, defaultdict\n",
    "import matplotlib.pyplot as plt\n",
    "\n",
    "plt.style.use(\"seaborn-colorblind\")\n",
    "%matplotlib inline"
   ]
  },
  {
   "cell_type": "markdown",
   "metadata": {},
   "source": [
    "### Comerciantes\n",
    "\n",
    "Apresentamos a utilização dos comerciantes:"
   ]
  },
  {
   "cell_type": "code",
   "execution_count": null,
   "metadata": {},
   "outputs": [],
   "source": [
    "comerciante_free_spaces = {\n",
    "    comerciante: comerciante.capacity - len(comerciante.matching)\n",
    "    for comerciante in game.containers\n",
    "}\n",
    "\n",
    "comerciante_utilisation = {\n",
    "    comerciante: len(comerciante.matching) / comerciante.capacity\n",
    "    for comerciante in game.containers\n",
    "}"
   ]
  },
  {
   "cell_type": "code",
   "execution_count": null,
   "metadata": {
    "tags": [
     "nbval-ignore-output"
    ]
   },
   "outputs": [],
   "source": [
    "fig, ax = plt.subplots(figsize = (14, 7), dpi = 300)\n",
    "\n",
    "data = Counter(comerciante_free_spaces.values())\n",
    "ax.bar(data.keys(), data.values())\n",
    "\n",
    "ax.set_xlabel(\"Num. espaços livres\")\n",
    "ax.set_ylabel(\"Frequência\")\n",
    "ax.set_xticks(range(max(data.keys()) + 1))\n",
    "ax.set_title(\"Comerciante - Espaços Livres\")"
   ]
  },
  {
   "cell_type": "code",
   "execution_count": null,
   "metadata": {
    "tags": [
     "nbval-ignore-output"
    ]
   },
   "outputs": [],
   "source": [
    "fig, ax = plt.subplots(figsize = (14, 7), dpi = 300)\n",
    "\n",
    "values = comerciante_utilisation.values()\n",
    "ax.hist(values)\n",
    "\n",
    "ylims = ax.get_ylim()\n",
    "ax.vlines(np.mean(list(values)), *ylims, \"tab:orange\", \"dashed\", label = \"Média\", lw = 3)\n",
    "ax.set_ylim(*ylims)\n",
    "\n",
    "ax.set_xlabel(\"Utilização\")\n",
    "ax.set_ylabel(\"Frequência\")\n",
    "ax.set_title(\"Utilização do Comerciante\")\n",
    "ax.legend()"
   ]
  },
  {
   "cell_type": "markdown",
   "metadata": {},
   "source": [
    "Podemos observar que os comerciantes aproveitaram quase que totalmente sua capacidade de alocar influenciadores.\n",
    "\n",
    "### Anúncios\n",
    "\n",
    "A mesma visualização aplicada aos anúncios:"
   ]
  },
  {
   "cell_type": "code",
   "execution_count": null,
   "metadata": {},
   "outputs": [],
   "source": [
    "anuncio_free_spaces = {\n",
    "    resource.name: resource.capacity - len(resource.matching) for resource in game.resources\n",
    "}\n",
    "\n",
    "anuncio_utilisation = {\n",
    "    resource.name: len(resource.matching) / resource.capacity for resource in game.resources\n",
    "}"
   ]
  },
  {
   "cell_type": "code",
   "execution_count": null,
   "metadata": {
    "tags": [
     "nbval-ignore-output"
    ]
   },
   "outputs": [],
   "source": [
    "fig, ax = plt.subplots(figsize = (14, 7), dpi = 300)\n",
    "\n",
    "data = Counter(anuncio_free_spaces.values())\n",
    "ax.bar(data.keys(), data.values())\n",
    "\n",
    "ax.set_xlabel(\"Espaços Livres\")\n",
    "ax.set_ylabel(\"Frequência\")\n",
    "ax.set_xticks(range(max(data.keys()) + 1))\n",
    "ax.set_title(\"Espaços Livres de Anúncios\")"
   ]
  },
  {
   "cell_type": "code",
   "execution_count": null,
   "metadata": {
    "tags": [
     "nbval-ignore-output"
    ]
   },
   "outputs": [],
   "source": [
    "fig, ax = plt.subplots(figsize = (14, 7), dpi = 300)\n",
    "\n",
    "values = anuncio_utilisation.values()\n",
    "ax.hist(values)\n",
    "\n",
    "ylims = ax.get_ylim()\n",
    "ax.vlines(np.mean(list(values)), *ylims, \"tab:orange\", \"dashed\", label = \"Média\", lw = 3)\n",
    "ax.vlines(np.median(list(values)), *ylims, \"tab:green\", \"dashed\", label = \"Mediana\", lw = 3)\n",
    "ax.set_ylim(*ylims)\n",
    "\n",
    "ax.set_xlabel(\"Utilização\")\n",
    "ax.set_ylabel(\"Frequência\")\n",
    "ax.set_title(\"Utilização do Anúncio\")\n",
    "ax.legend()"
   ]
  },
  {
   "cell_type": "markdown",
   "metadata": {},
   "source": [
    "A maioria dos anúncios foi repartida entre dois grupos:\n",
    "\n",
    "1. Os muito populares\n",
    "2. Os muito impopulares\n",
    "\n",
    "Resultados como estes indicam quais anúncios devem ser eliminados do mix ou necessitam mais campanhas de divulgação.\n",
    "\n",
    "### Influenciadores\n",
    "\n",
    "Neste exemplo a análise mais valiosa é a dos influenciadores. Para isto vamos inverter o pareamento gerado pelo algoritmo:"
   ]
  },
  {
   "cell_type": "code",
   "execution_count": null,
   "metadata": {},
   "outputs": [],
   "source": [
    "inverted_matching = {}\n",
    "influenciador_preference_of_matching = []\n",
    "for anuncio, anuncio_influenciadores in matching.items():\n",
    "    for influenciador in anuncio_influenciadores:\n",
    "        inverted_matching[influenciador.name] = anuncio.name\n",
    "        influenciador_preference_of_matching.append(influenciador._pref_names.index(anuncio.name))"
   ]
  },
  {
   "cell_type": "markdown",
   "metadata": {},
   "source": [
    "Assim poderemos criar relacionamentos entre os dados de influenciadores pareados e os dados originais e extrair os que não foram pareados:"
   ]
  },
  {
   "cell_type": "code",
   "execution_count": null,
   "metadata": {},
   "outputs": [],
   "source": [
    "df_matching = pd.DataFrame(\n",
    "    {\n",
    "        \"nome\": list(inverted_matching.keys()),\n",
    "        \"anuncio_codigo\": list(inverted_matching.values()),\n",
    "        \"preference\": influenciador_preference_of_matching,\n",
    "    }\n",
    ")\n",
    "\n",
    "df_matching = df_matching.sort_values(by = \"nome\").reset_index(drop = True)\n",
    "\n",
    "nome_indexed_df_matching = df_matching.set_index(\"nome\")\n",
    "nome_indexed_raw_influenciadores = raw_influenciadores.set_index(\"nome\")\n",
    "\n",
    "df_matching = pd.concat(\n",
    "    (nome_indexed_df_matching, nome_indexed_raw_influenciadores[\"rank\"]), axis = 1\n",
    ").reset_index()"
   ]
  },
  {
   "cell_type": "code",
   "execution_count": null,
   "metadata": {},
   "outputs": [],
   "source": [
    "unassigned_influenciadores = df_matching[df_matching[\"preference\"].isnull()]\n",
    "\n",
    "unassigned_influenciadores"
   ]
  },
  {
   "cell_type": "code",
   "execution_count": null,
   "metadata": {},
   "outputs": [],
   "source": [
    "assigned_influenciadores = df_matching[df_matching[\"preference\"].notnull()]\n",
    "assigned_influenciadores = assigned_influenciadores.astype({\"preference\": int})\n",
    "assigned_influenciadores.head()"
   ]
  },
  {
   "cell_type": "markdown",
   "metadata": {},
   "source": [
    "Baixo um gráfico mostrando a frequência da preferência do influenciador sobre seu pareamento:"
   ]
  },
  {
   "cell_type": "code",
   "execution_count": null,
   "metadata": {
    "tags": [
     "nbval-ignore-output"
    ]
   },
   "outputs": [],
   "source": [
    "fig, ax = plt.subplots(figsize = (14, 7), dpi = 300)\n",
    "\n",
    "values = Counter(assigned_influenciadores[\"preference\"])\n",
    "ax.bar(values.keys(), values.values())\n",
    "ax.bar(-2, len(unassigned_influenciadores))\n",
    "\n",
    "ax.set_xticks([-2] + list(range(0, 10, 2)))\n",
    "ax.set_xticklabels([\"NaN\"] + list(range(0, 10, 2)))\n",
    "ax.set_xlabel(\"Preferência\")\n",
    "ax.set_ylabel(\"Frequência\")\n",
    "ax.set_title(\"Preferências do Influenciador\")"
   ]
  },
  {
   "cell_type": "markdown",
   "metadata": {},
   "source": [
    "Podemos observar que a maioria dos influenciadores obteve sua primeira ou segunda opção.\n",
    "\n",
    "Outra consideração importante é o quão apropriado o _**ranking**_ é. Idealmente o influenciador que está classificado entre os melhores deve obter as suas primeiras opções e conforme a qualificação desce do mesmo modo suas preferências também devem descer."
   ]
  },
  {
   "cell_type": "code",
   "execution_count": null,
   "metadata": {
    "tags": [
     "nbval-ignore-output"
    ]
   },
   "outputs": [],
   "source": [
    "fig, ax = plt.subplots(figsize = (14, 7), dpi = 300)\n",
    "\n",
    "ax.scatter(\n",
    "    assigned_influenciadores[\"rank\"],\n",
    "    assigned_influenciadores[\"preference\"],\n",
    "    marker = \".\",\n",
    "    label = \"Influenciadores pareados\",\n",
    ")\n",
    "\n",
    "ax.scatter(\n",
    "    unassigned_influenciadores[\"rank\"],\n",
    "    [-0.5] * len(unassigned_influenciadores),\n",
    "    marker = \"|\",\n",
    "    lw = 3,\n",
    "    label = \"Influenciadores não pareados\",\n",
    ")\n",
    "\n",
    "ax.set_xlabel(\"Rank do Influenciador\")\n",
    "ax.set_ylabel(\"Preferencia de Pareamento\")\n",
    "ax.set_title(\"Rank do Influenciador X Preferência de Pareamento\")\n",
    "ax.legend()"
   ]
  },
  {
   "cell_type": "markdown",
   "metadata": {},
   "source": [
    "## Observando vagas remanescentes\n",
    "\n",
    "Ajustes podem (mas não devem) ser feitos na alocação. Uma possibilidade é oferecer anúncios com espaços vagos para influenciadores que não receberam ofertas:"
   ]
  },
  {
   "cell_type": "code",
   "execution_count": null,
   "metadata": {},
   "outputs": [],
   "source": [
    "import warnings\n",
    "\n",
    "warnings.filterwarnings(\"ignore\")"
   ]
  },
  {
   "cell_type": "code",
   "execution_count": null,
   "metadata": {},
   "outputs": [],
   "source": [
    "anuncio_com_vagas_nomes = [\n",
    "    anuncio.name\n",
    "    for anuncio in game.resources\n",
    "    if len(anuncio.matching) < anuncio.capacity\n",
    "] + list(unranked_anuncios)\n",
    "\n",
    "comerciante_com_vagas_nomes = [\n",
    "    comerciante.name\n",
    "    for comerciante in game.containers\n",
    "    if len(comerciante.matching) < comerciante.capacity\n",
    "] + list(unranked_comerciantes)"
   ]
  },
  {
   "cell_type": "code",
   "execution_count": null,
   "metadata": {},
   "outputs": [],
   "source": [
    "def get_number_of_pareamentos(nome, party, game):\n",
    "\n",
    "    for player in vars(game)[party]:\n",
    "        if player.name == nome:\n",
    "            return len(player.matching)\n",
    "\n",
    "    return 0\n",
    "\n",
    "\n",
    "def get_quota(data, party, nome):\n",
    "\n",
    "    if party == \"anuncio\":\n",
    "        column = \"codigo\"\n",
    "    else:\n",
    "        column = \"nome\"\n",
    "\n",
    "    return data[data[column] == nome][\"quota\"].iloc[0]"
   ]
  },
  {
   "cell_type": "code",
   "execution_count": null,
   "metadata": {},
   "outputs": [],
   "source": [
    "anuncios_com_vagas = anuncios[\n",
    "    (anuncios[\"codigo\"].isin(anuncio_com_vagas_nomes))\n",
    "    & (anuncios[\"comerciante\"].isin(comerciante_com_vagas_nomes))\n",
    "]"
   ]
  },
  {
   "cell_type": "code",
   "execution_count": null,
   "metadata": {},
   "outputs": [],
   "source": [
    "anuncios_com_vagas[\"comerciante_quota\"] = anuncios_com_vagas[\"comerciante\"].apply(\n",
    "    lambda x: get_quota(comerciantes, \"comerciante\", x)\n",
    ")\n",
    "\n",
    "anuncios_com_vagas[\"anuncio_pareamentos\"] = anuncios_com_vagas[\"codigo\"].apply(\n",
    "    lambda x: get_number_of_pareamentos(x, \"resources\", game)\n",
    ")\n",
    "\n",
    "anuncios_com_vagas[\"comerciante_pareamentos\"] = anuncios_com_vagas[\"comerciante\"].apply(\n",
    "    lambda x: get_number_of_pareamentos(x, \"containers\", game)\n",
    ")\n",
    "\n",
    "anuncios_com_vagas = anuncios_com_vagas[\n",
    "    [\n",
    "        \"codigo\",\n",
    "        \"quota\",\n",
    "        \"anuncio_pareamentos\",\n",
    "        \"comerciante\",\n",
    "        \"comerciante_quota\",\n",
    "        \"comerciante_pareamentos\",\n",
    "    ]\n",
    "]"
   ]
  },
  {
   "cell_type": "code",
   "execution_count": null,
   "metadata": {},
   "outputs": [],
   "source": [
    "anuncios_com_vagas = anuncios_com_vagas.set_index([\"comerciante\", \"codigo\"]).sort_index()\n",
    "\n",
    "anuncios_com_vagas"
   ]
  },
  {
   "cell_type": "markdown",
   "metadata": {},
   "source": [
    "> Fim"
   ]
  }
 ],
 "metadata": {
  "celltoolbar": "Tags",
  "kernelspec": {
   "display_name": "Python 3 (ipykernel)",
   "language": "python",
   "name": "python3"
  },
  "language_info": {
   "codemirror_mode": {
    "name": "ipython",
    "version": 3
   },
   "file_extension": ".py",
   "mimetype": "text/x-python",
   "name": "python",
   "nbconvert_exporter": "python",
   "pygments_lexer": "ipython3",
   "version": "3.8.2"
  }
 },
 "nbformat": 4,
 "nbformat_minor": 4
}
